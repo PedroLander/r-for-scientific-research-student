{
 "cells": [
  {
   "cell_type": "markdown",
   "id": "e9668e86",
   "metadata": {},
   "source": [
    "### 1. Load the required libraries"
   ]
  },
  {
   "cell_type": "code",
   "execution_count": 1,
   "id": "477584fc",
   "metadata": {
    "vscode": {
     "languageId": "r"
    }
   },
   "outputs": [
    {
     "name": "stderr",
     "output_type": "stream",
     "text": [
      "── \u001b[1mAttaching core tidyverse packages\u001b[22m ──────────────────────── tidyverse 2.0.0 ──\n",
      "\u001b[32m✔\u001b[39m \u001b[34mdplyr    \u001b[39m 1.1.4     \u001b[32m✔\u001b[39m \u001b[34mreadr    \u001b[39m 2.1.5\n",
      "\u001b[32m✔\u001b[39m \u001b[34mforcats  \u001b[39m 1.0.0     \u001b[32m✔\u001b[39m \u001b[34mstringr  \u001b[39m 1.5.1\n",
      "\u001b[32m✔\u001b[39m \u001b[34mggplot2  \u001b[39m 3.5.2     \u001b[32m✔\u001b[39m \u001b[34mtibble   \u001b[39m 3.2.1\n",
      "\u001b[32m✔\u001b[39m \u001b[34mlubridate\u001b[39m 1.9.4     \u001b[32m✔\u001b[39m \u001b[34mtidyr    \u001b[39m 1.3.1\n",
      "\u001b[32m✔\u001b[39m \u001b[34mpurrr    \u001b[39m 1.0.4     \n",
      "── \u001b[1mConflicts\u001b[22m ────────────────────────────────────────── tidyverse_conflicts() ──\n",
      "\u001b[31m✖\u001b[39m \u001b[34mdplyr\u001b[39m::\u001b[32mfilter()\u001b[39m masks \u001b[34mstats\u001b[39m::filter()\n",
      "\u001b[31m✖\u001b[39m \u001b[34mdplyr\u001b[39m::\u001b[32mlag()\u001b[39m    masks \u001b[34mstats\u001b[39m::lag()\n",
      "\u001b[36mℹ\u001b[39m Use the conflicted package (\u001b[3m\u001b[34m<http://conflicted.r-lib.org/>\u001b[39m\u001b[23m) to force all conflicts to become errors\n"
     ]
    }
   ],
   "source": [
    "library(tidyverse) # includes dplyr, readr and ggplot2"
   ]
  },
  {
   "cell_type": "markdown",
   "id": "8a47a527",
   "metadata": {},
   "source": [
    "### 2. Load the dataset. First 2 rows are just comments."
   ]
  },
  {
   "cell_type": "code",
   "execution_count": null,
   "id": "eb6a5c2c",
   "metadata": {
    "vscode": {
     "languageId": "r"
    }
   },
   "outputs": [
    {
     "name": "stderr",
     "output_type": "stream",
     "text": [
      "\u001b[1mRows: \u001b[22m\u001b[34m60\u001b[39m \u001b[1mColumns: \u001b[22m\u001b[34m2\u001b[39m\n",
      "\u001b[36m──\u001b[39m \u001b[1mColumn specification\u001b[22m \u001b[36m────────────────────────────────────────────────────────\u001b[39m\n",
      "\u001b[1mDelimiter:\u001b[22m \",\"\n",
      "\u001b[31mchr\u001b[39m (2): cell_length, delivery_method\n",
      "\n",
      "\u001b[36mℹ\u001b[39m Use `spec()` to retrieve the full column specification for this data.\n",
      "\u001b[36mℹ\u001b[39m Specify the column types or set `show_col_types = FALSE` to quiet this message.\n"
     ]
    }
   ],
   "source": [
    "guinea_pig_tooth_growth <- read_csv(\n",
    "  file = \"tooth_growth_guinea_pigs.csv\",\n",
    "  skip = 2\n",
    ")"
   ]
  },
  {
   "cell_type": "markdown",
   "id": "a7113a73",
   "metadata": {},
   "source": [
    "***-> R tells us through the console that the 2 columns imported as type \\<chr>.\\\n",
    "We want them to be \\<dbl> and \\<fct>, so let\"s cast them.***"
   ]
  },
  {
   "cell_type": "markdown",
   "id": "c3111f51",
   "metadata": {},
   "source": [
    "### 3. Clean the data"
   ]
  },
  {
   "cell_type": "code",
   "execution_count": 4,
   "id": "9ebebe64",
   "metadata": {
    "vscode": {
     "languageId": "r"
    }
   },
   "outputs": [
    {
     "name": "stderr",
     "output_type": "stream",
     "text": [
      "Warning message in data.frame(cell_length = as.numeric(guinea_pig_tooth_growth$cell_length), :\n",
      "“NAs introduced by coercion”\n"
     ]
    }
   ],
   "source": [
    "guinea_pig_tooth_growth_format <- data.frame(\n",
    "  cell_length = as.numeric(guinea_pig_tooth_growth$cell_length),\n",
    "  delivery_method = factor(guinea_pig_tooth_growth$delivery_method)\n",
    ")"
   ]
  },
  {
   "cell_type": "markdown",
   "id": "824121a7",
   "metadata": {},
   "source": [
    "***-> We see a warning about NAs introduced by coercion. Examining the data we\\\n",
    "noticed the \"N/A\" string was converted to \"NA\" \"numeric\" value. We should\\\n",
    "have handled this explicitly but we leave it like this because the conversion\\\n",
    "guess was correct.***"
   ]
  },
  {
   "cell_type": "code",
   "execution_count": 5,
   "id": "fcff5468",
   "metadata": {
    "vscode": {
     "languageId": "r"
    }
   },
   "outputs": [
    {
     "data": {
      "text/plain": [
       "  cell_length          delivery_method\n",
       " Min.   :  4.20   ascorbic_acid:29    \n",
       " 1st Qu.: 14.05   Ascorbic_acid: 1    \n",
       " Median : 19.70   orange_juice :29    \n",
       " Mean   : 20.29   orange_juicE : 1    \n",
       " 3rd Qu.: 25.50                       \n",
       " Max.   :100.00                       \n",
       " NA's   :1                            "
      ]
     },
     "metadata": {},
     "output_type": "display_data"
    }
   ],
   "source": [
    "summary(guinea_pig_tooth_growth_format, n = 3)"
   ]
  },
  {
   "cell_type": "markdown",
   "id": "a6ea72c9",
   "metadata": {},
   "source": [
    "***-> We noticed different factors are assigned because caps misuse. Let\"s correct\\\n",
    "it casting all delivery_method values to lowercase.***"
   ]
  },
  {
   "cell_type": "code",
   "execution_count": 6,
   "metadata": {
    "vscode": {
     "languageId": "r"
    }
   },
   "outputs": [
    {
     "name": "stderr",
     "output_type": "stream",
     "text": [
      "Warning message in data.frame(cell_length = as.numeric(guinea_pig_tooth_growth$cell_length), :\n",
      "“NAs introduced by coercion”\n"
     ]
    },
    {
     "data": {
      "text/plain": [
       "  cell_length          delivery_method\n",
       " Min.   :  4.20   ascorbic_acid:30    \n",
       " 1st Qu.: 14.05   orange_juice :30    \n",
       " Median : 19.70                       \n",
       " Mean   : 20.29                       \n",
       " 3rd Qu.: 25.50                       \n",
       " Max.   :100.00                       \n",
       " NA's   :1                            "
      ]
     },
     "metadata": {},
     "output_type": "display_data"
    }
   ],
   "source": [
    "guinea_pig_tooth_growth_format <-\n",
    "  data.frame(\n",
    "             cell_length = as.numeric(guinea_pig_tooth_growth$cell_length),\n",
    "             delivery_method = factor(\n",
    "                tolower(guinea_pig_tooth_growth$delivery_method)))\n",
    "\n",
    "summary(guinea_pig_tooth_growth_format, n = 3)"
   ]
  },
  {
   "cell_type": "markdown",
   "id": "e6fe521d",
   "metadata": {},
   "source": [
    "### 4. Plot the data in a boxplot with the data points, colour and format axis."
   ]
  },
  {
   "cell_type": "code",
   "execution_count": null,
   "id": "75e34dd7",
   "metadata": {
    "vscode": {
     "languageId": "r"
    }
   },
   "outputs": [
    {
     "name": "stderr",
     "output_type": "stream",
     "text": [
      "Warning message:\n",
      "“\u001b[1m\u001b[22mRemoved 1 row containing non-finite outside the scale range (`stat_boxplot()`).”\n",
      "Warning message:\n",
      "“\u001b[1m\u001b[22mRemoved 1 row containing missing values or values outside the scale range\n",
      "(`geom_point()`).”\n"
     ]
    },
    {
     "data": {
      "image/png": "[encoded data removed]",
      "text/plain": [
       "plot without title"
      ]
     },
     "metadata": {
      "image/png": {
       "height": 420,
       "width": 420
      }
     },
     "output_type": "display_data"
    }
   ],
   "source": [
    "guinea_pig_tooth_growth_format |>\n",
    "  ggplot(aes(x = delivery_method, y = cell_length, fill = delivery_method)) +\n",
    "  geom_boxplot(width = 0.25) +\n",
    "  geom_jitter(height = 0, width = 0.125, alpha = 0.25) +\n",
    "  scale_fill_discrete(\n",
    "    \"Delivery method\", labels = c(\"Ascorbic acid\",  \"Orange juice\")) +\n",
    "  scale_x_discrete(labels = c(\"Ascorbic acid\",  \"Orange juice\")) +\n",
    "  labs (x = \"Delivery method\", y = \"Cell length\") +\n",
    "  ggtitle(\"Guinea pig tooth growth\") +\n",
    "  theme(plot.title = element_text(hjust = 0.5))"
   ]
  },
  {
   "cell_type": "markdown",
   "id": "25721ec4",
   "metadata": {},
   "source": [
    "***-> We can observe two warnings about values outside of the scale range. This are\\\n",
    "\"outliers\" (probably a typo) \"messing\" the graph and  making it hard to\\\n",
    "visualize the bars, so let\"s ignore them for the plot.***"
   ]
  },
  {
   "cell_type": "code",
   "execution_count": null,
   "id": "7027f37f",
   "metadata": {
    "vscode": {
     "languageId": "r"
    }
   },
   "outputs": [
    {
     "name": "stderr",
     "output_type": "stream",
     "text": [
      "Warning message:\n",
      "“\u001b[1m\u001b[22mRemoved 2 rows containing non-finite outside the scale range\n",
      "(`stat_boxplot()`).”\n",
      "Warning message:\n",
      "“\u001b[1m\u001b[22mRemoved 2 rows containing missing values or values outside the scale range\n",
      "(`geom_point()`).”\n"
     ]
    },
    {
     "data": {
      "image/png": "[encoded data removed]",
      "text/plain": [
       "plot without title"
      ]
     },
     "metadata": {
      "image/png": {
       "height": 420,
       "width": 420
      }
     },
     "output_type": "display_data"
    }
   ],
   "source": [
    "guinea_pig_tooth_growth_format |>\n",
    "  ggplot(aes(x = delivery_method, y = cell_length, fill = delivery_method)) +\n",
    "  scale_y_continuous(limits=c(0,35)) +\n",
    "  geom_boxplot(width = 0.25) +\n",
    "  geom_jitter(height = 0, width = 0.125, alpha = 0.25) +\n",
    "  scale_fill_discrete(\n",
    "    \"Delivery method\", labels = c(\"Ascorbic acid\",  \"Orange juice\")) +\n",
    "  scale_x_discrete(labels = c(\"Ascorbic acid\",  \"Orange juice\")) +\n",
    "  labs (x = \"Delivery method\", y = \"Cell length\") +\n",
    "  ggtitle(\"Guinea pig tooth growth\") +\n",
    "  theme(plot.title = element_text(hjust = 0.5))"
   ]
  },
  {
   "cell_type": "markdown",
   "id": "99d19c0a",
   "metadata": {},
   "source": [
    "### 5. Save the image"
   ]
  },
  {
   "cell_type": "code",
   "execution_count": 12,
   "id": "a209b811",
   "metadata": {
    "vscode": {
     "languageId": "r"
    }
   },
   "outputs": [
    {
     "name": "stderr",
     "output_type": "stream",
     "text": [
      "Warning message:\n",
      "“\u001b[1m\u001b[22mRemoved 2 rows containing non-finite outside the scale range\n",
      "(`stat_boxplot()`).”\n",
      "Warning message:\n",
      "“\u001b[1m\u001b[22mRemoved 2 rows containing missing values or values outside the scale range\n",
      "(`geom_point()`).”\n"
     ]
    }
   ],
   "source": [
    "ggsave(filename = \"guinea_pig_tooth_growth.png\",\n",
    "       width = 120,\n",
    "       height = 120,\n",
    "       units = \"mm\")"
   ]
  },
  {
   "cell_type": "markdown",
   "id": "ba0fc331",
   "metadata": {},
   "source": [
    "### 8. Make a summary table with Mean, SD, SE and n."
   ]
  },
  {
   "cell_type": "code",
   "execution_count": 25,
   "id": "03ef1e4a",
   "metadata": {
    "vscode": {
     "languageId": "r"
    }
   },
   "outputs": [
    {
     "data": {
      "text/html": [
       "<table class=\"dataframe\">\n",
       "<caption>A tibble: 2 × 5</caption>\n",
       "<thead>\n",
       "\t<tr><th scope=col>delivery_method</th><th scope=col>n</th><th scope=col>mean_cell_length</th><th scope=col>sd_cell_length</th><th scope=col>se_cell_length</th></tr>\n",
       "\t<tr><th scope=col>&lt;fct&gt;</th><th scope=col>&lt;int&gt;</th><th scope=col>&lt;dbl&gt;</th><th scope=col>&lt;dbl&gt;</th><th scope=col>&lt;dbl&gt;</th></tr>\n",
       "</thead>\n",
       "<tbody>\n",
       "\t<tr><td>ascorbic_acid</td><td>29</td><td>16.80690</td><td>8.367024</td><td>1.553717</td></tr>\n",
       "\t<tr><td>orange_juice </td><td>29</td><td>21.03103</td><td>6.402405</td><td>1.188897</td></tr>\n",
       "</tbody>\n",
       "</table>\n"
      ],
      "text/latex": [
       "A tibble: 2 × 5\n",
       "\\begin{tabular}{lllll}\n",
       " delivery\\_method & n & mean\\_cell\\_length & sd\\_cell\\_length & se\\_cell\\_length\\\\\n",
       " <fct> & <int> & <dbl> & <dbl> & <dbl>\\\\\n",
       "\\hline\n",
       "\t ascorbic\\_acid & 29 & 16.80690 & 8.367024 & 1.553717\\\\\n",
       "\t orange\\_juice  & 29 & 21.03103 & 6.402405 & 1.188897\\\\\n",
       "\\end{tabular}\n"
      ],
      "text/markdown": [
       "\n",
       "A tibble: 2 × 5\n",
       "\n",
       "| delivery_method &lt;fct&gt; | n &lt;int&gt; | mean_cell_length &lt;dbl&gt; | sd_cell_length &lt;dbl&gt; | se_cell_length &lt;dbl&gt; |\n",
       "|---|---|---|---|---|\n",
       "| ascorbic_acid | 29 | 16.80690 | 8.367024 | 1.553717 |\n",
       "| orange_juice  | 29 | 21.03103 | 6.402405 | 1.188897 |\n",
       "\n"
      ],
      "text/plain": [
       "  delivery_method n  mean_cell_length sd_cell_length se_cell_length\n",
       "1 ascorbic_acid   29 16.80690         8.367024       1.553717      \n",
       "2 orange_juice    29 21.03103         6.402405       1.188897      "
      ]
     },
     "metadata": {},
     "output_type": "display_data"
    }
   ],
   "source": [
    "guinea_pig_tooth_growth_summary  <- guinea_pig_tooth_growth_format |>\n",
    "  filter(cell_length < 90) |>\n",
    "  group_by(delivery_method) |>\n",
    "  summarise(\n",
    "    n = n(),\n",
    "    mean_cell_length = mean(cell_length),\n",
    "    sd_cell_length = sd(cell_length),\n",
    "    se_cell_length = sd_cell_length / sqrt(n),\n",
    "    .groups = \"drop\")\n",
    "guinea_pig_tooth_growth_summary"
   ]
  },
  {
   "cell_type": "markdown",
   "id": "a3dfb86a",
   "metadata": {},
   "source": [
    "### 9. Statistical test summary\n",
    "A t-test could be appropiate to compare the mean of two groups of t-test is\\\n",
    "based on the assumption of homocedasticity and normality, let\"s check those.\n",
    "\n",
    "##### Homocedasticity with F-distribution"
   ]
  },
  {
   "cell_type": "code",
   "execution_count": 14,
   "id": "62fb67bd",
   "metadata": {
    "vscode": {
     "languageId": "r"
    }
   },
   "outputs": [
    {
     "data": {
      "text/plain": [
       "\n",
       "\tF test to compare two variances\n",
       "\n",
       "data:  cell_length by delivery_method\n",
       "F = 0.28292, num df = 28, denom df = 29, p-value = 0.001255\n",
       "alternative hypothesis: true ratio of variances is not equal to 1\n",
       "95 percent confidence interval:\n",
       " 0.1340693 0.5999907\n",
       "sample estimates:\n",
       "ratio of variances \n",
       "         0.2829173 \n"
      ]
     },
     "metadata": {},
     "output_type": "display_data"
    }
   ],
   "source": [
    "var.test(cell_length ~ delivery_method, data = guinea_pig_tooth_growth_format)"
   ]
  },
  {
   "cell_type": "markdown",
   "id": "07e0dd3d",
   "metadata": {},
   "source": [
    "***-> F-test show that the variance is not equal in the two groups.***\n",
    "\n",
    "##### Shaphiro test for normality"
   ]
  },
  {
   "cell_type": "code",
   "execution_count": 15,
   "id": "9f45a21a",
   "metadata": {
    "vscode": {
     "languageId": "r"
    }
   },
   "outputs": [
    {
     "data": {
      "text/html": [
       "<table class=\"dataframe\">\n",
       "<caption>A tibble: 2 × 2</caption>\n",
       "<thead>\n",
       "\t<tr><th scope=col>delivery_method</th><th scope=col>shaphiro_test</th></tr>\n",
       "\t<tr><th scope=col>&lt;fct&gt;</th><th scope=col>&lt;dbl&gt;</th></tr>\n",
       "</thead>\n",
       "<tbody>\n",
       "\t<tr><td>ascorbic_acid</td><td>0.32909272</td></tr>\n",
       "\t<tr><td>orange_juice </td><td>0.03325364</td></tr>\n",
       "</tbody>\n",
       "</table>\n"
      ],
      "text/latex": [
       "A tibble: 2 × 2\n",
       "\\begin{tabular}{ll}\n",
       " delivery\\_method & shaphiro\\_test\\\\\n",
       " <fct> & <dbl>\\\\\n",
       "\\hline\n",
       "\t ascorbic\\_acid & 0.32909272\\\\\n",
       "\t orange\\_juice  & 0.03325364\\\\\n",
       "\\end{tabular}\n"
      ],
      "text/markdown": [
       "\n",
       "A tibble: 2 × 2\n",
       "\n",
       "| delivery_method &lt;fct&gt; | shaphiro_test &lt;dbl&gt; |\n",
       "|---|---|\n",
       "| ascorbic_acid | 0.32909272 |\n",
       "| orange_juice  | 0.03325364 |\n",
       "\n"
      ],
      "text/plain": [
       "  delivery_method shaphiro_test\n",
       "1 ascorbic_acid   0.32909272   \n",
       "2 orange_juice    0.03325364   "
      ]
     },
     "metadata": {},
     "output_type": "display_data"
    }
   ],
   "source": [
    "guinea_pig_tooth_growth_format |>\n",
    "  filter(cell_length < 90) |>\n",
    "  group_by(delivery_method) |>\n",
    "  summarise(shaphiro_test= shapiro.test(cell_length)$p.value)"
   ]
  },
  {
   "cell_type": "markdown",
   "id": "35de8425",
   "metadata": {},
   "source": [
    "***-> \"orange_juice\" group values (even excluding the \"outlier\") seem to not be\\\n",
    "normally distributed***"
   ]
  },
  {
   "cell_type": "markdown",
   "id": "603255bf",
   "metadata": {},
   "source": [
    "***-> They are not homocedastic and one group is not normal. We could use a\\\n",
    "Mann-Whitney U test but because we have n = 30, by the Central Limit Theorem,\\\n",
    "t-test is quite resistant when the two groups have the same size. Furthermore,\\\n",
    "a t-test variant (Welch approximation) would be even more appropiate, it can\\\n",
    "be applied with \"t.test(... var.equal = FALSE)\".***"
   ]
  },
  {
   "cell_type": "code",
   "execution_count": 16,
   "id": "0d116768",
   "metadata": {
    "vscode": {
     "languageId": "r"
    }
   },
   "outputs": [
    {
     "data": {
      "text/plain": [
       "\n",
       "\tWelch Two Sample t-test\n",
       "\n",
       "data:  cell_length by delivery_method\n",
       "t = -2.0998, df = 44.51, p-value = 0.04145\n",
       "alternative hypothesis: true difference in means between group ascorbic_acid and group orange_juice is not equal to 0\n",
       "95 percent confidence interval:\n",
       " -13.4351154  -0.2777581\n",
       "sample estimates:\n",
       "mean in group ascorbic_acid  mean in group orange_juice \n",
       "                   16.80690                    23.66333 \n"
      ]
     },
     "metadata": {},
     "output_type": "display_data"
    }
   ],
   "source": [
    "t.test(\n",
    "  formula = cell_length ~ delivery_method,\n",
    "  data = guinea_pig_tooth_growth_format,\n",
    "  var.equal = FALSE\n",
    ")"
   ]
  },
  {
   "cell_type": "markdown",
   "id": "bd898a45",
   "metadata": {},
   "source": [
    "***-> p-value of Welch aproximation is ~0.04 so let\"s check Mann-Whitney U test***"
   ]
  },
  {
   "cell_type": "code",
   "execution_count": 17,
   "id": "00e1c879",
   "metadata": {
    "vscode": {
     "languageId": "r"
    }
   },
   "outputs": [
    {
     "data": {
      "text/plain": [
       "\n",
       "\tWilcoxon rank sum test with continuity correction\n",
       "\n",
       "data:  cell_length by delivery_method\n",
       "W = 288.5, p-value = 0.0268\n",
       "alternative hypothesis: true location shift is not equal to 0\n"
      ]
     },
     "metadata": {},
     "output_type": "display_data"
    }
   ],
   "source": [
    "wilcox.test(\n",
    "  cell_length ~ delivery_method,\n",
    "  data = guinea_pig_tooth_growth_format,\n",
    "  exact = FALSE\n",
    ")"
   ]
  },
  {
   "cell_type": "markdown",
   "id": "50979d81",
   "metadata": {},
   "source": [
    "***-> p-value is ~0.027 so we can say, with a confidence level of 95%, that both\\\n",
    "groups does not have the same mean. So cell_length of guinea pigs treated with\\\n",
    "vitamin C through ascorbic_acid is different from the ones treated with it\\\n",
    "through orange_juice.***"
   ]
  }
 ],
 "metadata": {
  "kernelspec": {
   "display_name": "R",
   "language": "R",
   "name": "ir"
  },
  "language_info": {
   "codemirror_mode": "r",
   "file_extension": ".r",
   "mimetype": "text/x-r-source",
   "name": "R",
   "pygments_lexer": "r",
   "version": "4.5.0"
  }
 },
 "nbformat": 4,
 "nbformat_minor": 5
}
