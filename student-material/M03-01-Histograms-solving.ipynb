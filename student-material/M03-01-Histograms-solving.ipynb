{
 "cells": [
  {
   "cell_type": "markdown",
   "id": "c94d7852",
   "metadata": {},
   "source": [
    "## Creating histograms.\n",
    "We had a brief look at ggplot2 and creating histograms. Now it is your turn!\\\n",
    "Replace _ to complete expressions and return the correct answer\\\n",
    "Restart R to remove previous results using: Ctrl/Cmd + shift + F10\\\n",
    "Remember - try to use google to help you answer questions"
   ]
  },
  {
   "cell_type": "code",
   "execution_count": null,
   "id": "0392b93e",
   "metadata": {
    "vscode": {
     "languageId": "r"
    }
   },
   "outputs": [],
   "source": [
    "# Load the tidyverse package with contains ggplot2\n",
    "library(ggplot2)"
   ]
  },
  {
   "cell_type": "markdown",
   "id": "febed16e",
   "metadata": {},
   "source": [
    "#### 1. Histograms\n",
    "We will examine the weight distribution by gender in a hospital dataset.\\\n",
    "The columns of interest are: weight and gender"
   ]
  },
  {
   "cell_type": "markdown",
   "id": "da94a8fd",
   "metadata": {},
   "source": [
    "##### 1.1 Import the hospital.txt dataset, which is tab-delimited"
   ]
  },
  {
   "cell_type": "code",
   "execution_count": null,
   "id": "7682fe06",
   "metadata": {
    "vscode": {
     "languageId": "r"
    }
   },
   "outputs": [
    {
     "data": {
      "text/html": [
       "<table class=\"dataframe\">\n",
       "<caption>A data.frame: 6 × 25</caption>\n",
       "<thead>\n",
       "\t<tr><th></th><th scope=col>episode_start_date</th><th scope=col>gender</th><th scope=col>age</th><th scope=col>weight</th><th scope=col>area_residence</th><th scope=col>diagnosis_code1</th><th scope=col>diagnosis_code2</th><th scope=col>diagnosis_code3</th><th scope=col>diagnosis_code4</th><th scope=col>diagnosis_code5</th><th scope=col>⋯</th><th scope=col>procedure_code1</th><th scope=col>procedure_code2</th><th scope=col>procedure_code3</th><th scope=col>procedure_code4</th><th scope=col>procedure_code5</th><th scope=col>procedure_code6</th><th scope=col>procedure_code7</th><th scope=col>procedure_code8</th><th scope=col>procedure_code9</th><th scope=col>procedure_code10</th></tr>\n",
       "\t<tr><th></th><th scope=col>&lt;chr&gt;</th><th scope=col>&lt;chr&gt;</th><th scope=col>&lt;int&gt;</th><th scope=col>&lt;int&gt;</th><th scope=col>&lt;chr&gt;</th><th scope=col>&lt;chr&gt;</th><th scope=col>&lt;chr&gt;</th><th scope=col>&lt;chr&gt;</th><th scope=col>&lt;chr&gt;</th><th scope=col>&lt;chr&gt;</th><th scope=col>⋯</th><th scope=col>&lt;chr&gt;</th><th scope=col>&lt;chr&gt;</th><th scope=col>&lt;chr&gt;</th><th scope=col>&lt;chr&gt;</th><th scope=col>&lt;chr&gt;</th><th scope=col>&lt;lgl&gt;</th><th scope=col>&lt;lgl&gt;</th><th scope=col>&lt;lgl&gt;</th><th scope=col>&lt;lgl&gt;</th><th scope=col>&lt;lgl&gt;</th></tr>\n",
       "</thead>\n",
       "<tbody>\n",
       "\t<tr><th scope=row>1</th><td>19/09/2023</td><td>F</td><td>28</td><td>62</td><td>G</td><td>F.1</td><td>NA </td><td>NA </td><td>NA</td><td>NA</td><td>⋯</td><td>Z.3</td><td>T.5</td><td>W.6</td><td>X.5 </td><td>W.4 </td><td>NA</td><td>NA</td><td>NA</td><td>NA</td><td>NA</td></tr>\n",
       "\t<tr><th scope=row>2</th><td>19/10/2023</td><td>M</td><td>50</td><td>82</td><td>C</td><td>C.4</td><td>A.3</td><td>B.8</td><td>NA</td><td>NA</td><td>⋯</td><td>W.6</td><td>V.2</td><td>Y.9</td><td>Z.7 </td><td>W.10</td><td>NA</td><td>NA</td><td>NA</td><td>NA</td><td>NA</td></tr>\n",
       "\t<tr><th scope=row>3</th><td>16/10/2023</td><td>F</td><td>66</td><td>53</td><td>A</td><td>H.8</td><td>I.1</td><td>NA </td><td>NA</td><td>NA</td><td>⋯</td><td>U.9</td><td>T.6</td><td>Z.3</td><td>Y.2 </td><td>Y.8 </td><td>NA</td><td>NA</td><td>NA</td><td>NA</td><td>NA</td></tr>\n",
       "\t<tr><th scope=row>4</th><td>11/02/2023</td><td>M</td><td>75</td><td>69</td><td>A</td><td>F.2</td><td>F.8</td><td>NA </td><td>NA</td><td>NA</td><td>⋯</td><td>T.6</td><td>X.4</td><td>W.2</td><td>Z.1 </td><td>X.7 </td><td>NA</td><td>NA</td><td>NA</td><td>NA</td><td>NA</td></tr>\n",
       "\t<tr><th scope=row>5</th><td>18/12/2023</td><td>F</td><td>38</td><td>66</td><td>B</td><td>C.2</td><td>NA </td><td>NA </td><td>NA</td><td>NA</td><td>⋯</td><td>Y.9</td><td>X.1</td><td>V.4</td><td>V.8 </td><td>X.7 </td><td>NA</td><td>NA</td><td>NA</td><td>NA</td><td>NA</td></tr>\n",
       "\t<tr><th scope=row>6</th><td>25/01/2023</td><td>F</td><td>39</td><td>54</td><td>I</td><td>C.9</td><td>NA </td><td>NA </td><td>NA</td><td>NA</td><td>⋯</td><td>X.5</td><td>V.3</td><td>V.3</td><td>Y.10</td><td>Z.9 </td><td>NA</td><td>NA</td><td>NA</td><td>NA</td><td>NA</td></tr>\n",
       "</tbody>\n",
       "</table>\n"
      ],
      "text/latex": [
       "A data.frame: 6 × 25\n",
       "\\begin{tabular}{r|lllllllllllllllllllll}\n",
       "  & episode\\_start\\_date & gender & age & weight & area\\_residence & diagnosis\\_code1 & diagnosis\\_code2 & diagnosis\\_code3 & diagnosis\\_code4 & diagnosis\\_code5 & ⋯ & procedure\\_code1 & procedure\\_code2 & procedure\\_code3 & procedure\\_code4 & procedure\\_code5 & procedure\\_code6 & procedure\\_code7 & procedure\\_code8 & procedure\\_code9 & procedure\\_code10\\\\\n",
       "  & <chr> & <chr> & <int> & <int> & <chr> & <chr> & <chr> & <chr> & <chr> & <chr> & ⋯ & <chr> & <chr> & <chr> & <chr> & <chr> & <lgl> & <lgl> & <lgl> & <lgl> & <lgl>\\\\\n",
       "\\hline\n",
       "\t1 & 19/09/2023 & F & 28 & 62 & G & F.1 & NA  & NA  & NA & NA & ⋯ & Z.3 & T.5 & W.6 & X.5  & W.4  & NA & NA & NA & NA & NA\\\\\n",
       "\t2 & 19/10/2023 & M & 50 & 82 & C & C.4 & A.3 & B.8 & NA & NA & ⋯ & W.6 & V.2 & Y.9 & Z.7  & W.10 & NA & NA & NA & NA & NA\\\\\n",
       "\t3 & 16/10/2023 & F & 66 & 53 & A & H.8 & I.1 & NA  & NA & NA & ⋯ & U.9 & T.6 & Z.3 & Y.2  & Y.8  & NA & NA & NA & NA & NA\\\\\n",
       "\t4 & 11/02/2023 & M & 75 & 69 & A & F.2 & F.8 & NA  & NA & NA & ⋯ & T.6 & X.4 & W.2 & Z.1  & X.7  & NA & NA & NA & NA & NA\\\\\n",
       "\t5 & 18/12/2023 & F & 38 & 66 & B & C.2 & NA  & NA  & NA & NA & ⋯ & Y.9 & X.1 & V.4 & V.8  & X.7  & NA & NA & NA & NA & NA\\\\\n",
       "\t6 & 25/01/2023 & F & 39 & 54 & I & C.9 & NA  & NA  & NA & NA & ⋯ & X.5 & V.3 & V.3 & Y.10 & Z.9  & NA & NA & NA & NA & NA\\\\\n",
       "\\end{tabular}\n"
      ],
      "text/markdown": [
       "\n",
       "A data.frame: 6 × 25\n",
       "\n",
       "| <!--/--> | episode_start_date &lt;chr&gt; | gender &lt;chr&gt; | age &lt;int&gt; | weight &lt;int&gt; | area_residence &lt;chr&gt; | diagnosis_code1 &lt;chr&gt; | diagnosis_code2 &lt;chr&gt; | diagnosis_code3 &lt;chr&gt; | diagnosis_code4 &lt;chr&gt; | diagnosis_code5 &lt;chr&gt; | ⋯ ⋯ | procedure_code1 &lt;chr&gt; | procedure_code2 &lt;chr&gt; | procedure_code3 &lt;chr&gt; | procedure_code4 &lt;chr&gt; | procedure_code5 &lt;chr&gt; | procedure_code6 &lt;lgl&gt; | procedure_code7 &lt;lgl&gt; | procedure_code8 &lt;lgl&gt; | procedure_code9 &lt;lgl&gt; | procedure_code10 &lt;lgl&gt; |\n",
       "|---|---|---|---|---|---|---|---|---|---|---|---|---|---|---|---|---|---|---|---|---|---|\n",
       "| 1 | 19/09/2023 | F | 28 | 62 | G | F.1 | NA  | NA  | NA | NA | ⋯ | Z.3 | T.5 | W.6 | X.5  | W.4  | NA | NA | NA | NA | NA |\n",
       "| 2 | 19/10/2023 | M | 50 | 82 | C | C.4 | A.3 | B.8 | NA | NA | ⋯ | W.6 | V.2 | Y.9 | Z.7  | W.10 | NA | NA | NA | NA | NA |\n",
       "| 3 | 16/10/2023 | F | 66 | 53 | A | H.8 | I.1 | NA  | NA | NA | ⋯ | U.9 | T.6 | Z.3 | Y.2  | Y.8  | NA | NA | NA | NA | NA |\n",
       "| 4 | 11/02/2023 | M | 75 | 69 | A | F.2 | F.8 | NA  | NA | NA | ⋯ | T.6 | X.4 | W.2 | Z.1  | X.7  | NA | NA | NA | NA | NA |\n",
       "| 5 | 18/12/2023 | F | 38 | 66 | B | C.2 | NA  | NA  | NA | NA | ⋯ | Y.9 | X.1 | V.4 | V.8  | X.7  | NA | NA | NA | NA | NA |\n",
       "| 6 | 25/01/2023 | F | 39 | 54 | I | C.9 | NA  | NA  | NA | NA | ⋯ | X.5 | V.3 | V.3 | Y.10 | Z.9  | NA | NA | NA | NA | NA |\n",
       "\n"
      ],
      "text/plain": [
       "  episode_start_date gender age weight area_residence diagnosis_code1\n",
       "1 19/09/2023         F      28  62     G              F.1            \n",
       "2 19/10/2023         M      50  82     C              C.4            \n",
       "3 16/10/2023         F      66  53     A              H.8            \n",
       "4 11/02/2023         M      75  69     A              F.2            \n",
       "5 18/12/2023         F      38  66     B              C.2            \n",
       "6 25/01/2023         F      39  54     I              C.9            \n",
       "  diagnosis_code2 diagnosis_code3 diagnosis_code4 diagnosis_code5 ⋯\n",
       "1 NA              NA              NA              NA              ⋯\n",
       "2 A.3             B.8             NA              NA              ⋯\n",
       "3 I.1             NA              NA              NA              ⋯\n",
       "4 F.8             NA              NA              NA              ⋯\n",
       "5 NA              NA              NA              NA              ⋯\n",
       "6 NA              NA              NA              NA              ⋯\n",
       "  procedure_code1 procedure_code2 procedure_code3 procedure_code4\n",
       "1 Z.3             T.5             W.6             X.5            \n",
       "2 W.6             V.2             Y.9             Z.7            \n",
       "3 U.9             T.6             Z.3             Y.2            \n",
       "4 T.6             X.4             W.2             Z.1            \n",
       "5 Y.9             X.1             V.4             V.8            \n",
       "6 X.5             V.3             V.3             Y.10           \n",
       "  procedure_code5 procedure_code6 procedure_code7 procedure_code8\n",
       "1 W.4             NA              NA              NA             \n",
       "2 W.10            NA              NA              NA             \n",
       "3 Y.8             NA              NA              NA             \n",
       "4 X.7             NA              NA              NA             \n",
       "5 X.7             NA              NA              NA             \n",
       "6 Z.9             NA              NA              NA             \n",
       "  procedure_code9 procedure_code10\n",
       "1 NA              NA              \n",
       "2 NA              NA              \n",
       "3 NA              NA              \n",
       "4 NA              NA              \n",
       "5 NA              NA              \n",
       "6 NA              NA              "
      ]
     },
     "metadata": {},
     "output_type": "display_data"
    }
   ],
   "source": [
    "hospital <- read.delim(file = '../data/hospital.txt', sep = \"\\t\")\n",
    "head(hospital)"
   ]
  },
  {
   "cell_type": "code",
   "execution_count": null,
   "id": "0c45384e",
   "metadata": {
    "vscode": {
     "languageId": "r"
    }
   },
   "outputs": [
    {
     "name": "stderr",
     "output_type": "stream",
     "text": [
      "\u001b[1m\u001b[22m`stat_bin()` using `bins = 30`. Pick better value with `binwidth`.\n"
     ]
    },
    {
     "data": {
      "image/png": "[encoded data removed]",
      "text/plain": [
       "plot without title"
      ]
     },
     "metadata": {
      "image/png": {
       "height": 420,
       "width": 420
      }
     },
     "output_type": "display_data"
    }
   ],
   "source": [
    "# Remember ---\n",
    "# we use + to add layers to ggplot()\n",
    "# geom_histogram()\n",
    "# fill= controls bar colour\n",
    "# alpha= controls the transparency\n",
    "\n",
    "\n",
    "# 1.2 Create a histogram of weight ----\n",
    "# Does the distribution appear unimodal?\n",
    " # -> No, it doesn't\n",
    "# What does the average weight appear to be?\n",
    "hospital |> \n",
    "  ggplot(aes(x = weight)) +\n",
    "  geom_histogram()"
   ]
  },
  {
   "cell_type": "code",
   "execution_count": null,
   "id": "96c41489",
   "metadata": {
    "vscode": {
     "languageId": "r"
    }
   },
   "outputs": [],
   "source": [
    "# 1.3 Alter the binwidth ----\n",
    "# Alter the code to create histograms with different binwidths, and examine\n",
    "# whether you can conclusions about the distribution of the data e.g. uni-modal/bi-modal,\n",
    "# or skewed\n",
    "#\n",
    "# Try the bin widths:\n",
    "#  - 20 kg (binwidth = 20)\n",
    "#  - 10 kg\n",
    "#  - 1 kg\n",
    "hospital %>% \n",
    "  ggplot(_) +\n",
    "  _\n",
    "\n",
    "# 1.4 Colour by gender ----\n",
    "# Update the code to create a fill aesthetic by gender i.e. make the bar colours\n",
    "# by gender\n",
    "hospital %>% \n",
    "  ggplot(aes(x = weight, _)) + \n",
    "  geom_histogram()\n",
    "\n",
    "\n",
    "# Ok, there are some groups in gender that we want to remove.\n",
    "# Include only data from gender equal to 'F' or 'M'\n",
    "hospital %>% \n",
    "  count(gender)\n",
    "\n",
    "hospital_fm <-\n",
    "  hospital %>% \n",
    "  _\n",
    "\n",
    "\n",
    "# Remake the histogram coloured by gender\n",
    "# note: the fill is inside the aes() function\n",
    "hospital_fm %>% \n",
    "  _\n",
    "\n",
    "# Notice at x values > 60 & < 75, the F bars are placed on top of the M bars?\n",
    "# This is a result of the default 'position' argument of geom_histogram()\n",
    "# ?geom_histogram\n",
    "\n",
    "# 1.5 Fixing the plot ----\n",
    "# We do not wanted 'stack'ed bars but their true value. We can do this using\n",
    "# position=\"identity\".\n",
    "# Update the code to change the position argument to \"identity\"\n",
    "hospital_fm %>% \n",
    "  ggplot(aes(x = _, fill = _)) + \n",
    "  geom_histogram(position = _)\n",
    "\n",
    "# However, now the M bars are covering the F bars (overplotting)\n",
    "# Can you think of a way to allow the bars to be shown from all the groups?\n",
    "# Hint: Think about the colour transparency...\n",
    "hospital_fm %>% \n",
    "  ggplot(aes(x = _, fill = _)) + \n",
    "  geom_histogram(_, _)\n",
    "\n",
    "# 1.6 Export the plot ----\n",
    "# We can use ggsave to export the last ggplot observed in RStudio\n",
    "# Export the last plot to the \"outputs\" folder as \"weights_histogram.png\"\n",
    "# Examine it outside of RStudio\n",
    "ggsave(filename = _, \n",
    "       plot = last_plot(), \n",
    "       width = 120, height = 100, units = 'mm')\n",
    "\n",
    "# 1.7 Using facets ----\n",
    "# Another method is to create multiple histograms in different panels (facets)\n",
    "# rather than coloring them in the same plot. Use facet_wrap() to create the\n",
    "# histograms in different panels by gender.\n",
    "hospital_fm %>% \n",
    "  ggplot(aes(x = weight)) +\n",
    "  geom_histogram() +\n",
    "  _\n",
    "  \n",
    "\n",
    "\n",
    "\n",
    "# 2.0 Extra exercises ----\n",
    "\n",
    "# 2.1 faithful ----\n",
    "# faithful is a R dataset on the waiting time between eruptions and the duration \n",
    "# of the eruption for the Old Faithful geyser in Yellowstone National Park, Wyoming, USA.\n",
    "# ?faithful\n",
    "\n",
    "# Create a histogram of the eruption times in minutes column (eruptions)\n",
    "# Colour the bars black, and make them have a white outline\n",
    "# Add x and y axis title: x = Frequency of eruptions, y = Duration (minutes)\n",
    "faithful %>% \n",
    "\n",
    "# 2.2 penguins ----\n",
    "# Are the distributions of body mass among penguins species similar?\n",
    "# Create a histogram of body mass and use facets to seperate the species\n",
    "penguins <-\n",
    "  readr::read_csv(_)\n",
    "\n",
    "penguins %>% \n",
    " _\n",
    "\n",
    "## Conclusion ----\n",
    "# We have examined\n",
    "# - making ggplot histograms\n",
    "# - altering bin widths\n",
    "# - including different groups\n",
    "# - altering visual properties\n",
    "# - exporting plots\n"
   ]
  }
 ],
 "metadata": {
  "kernelspec": {
   "display_name": "R",
   "language": "R",
   "name": "ir"
  },
  "language_info": {
   "codemirror_mode": "r",
   "file_extension": ".r",
   "mimetype": "text/x-r-source",
   "name": "R",
   "pygments_lexer": "r",
   "version": "4.5.0"
  }
 },
 "nbformat": 4,
 "nbformat_minor": 5
}
