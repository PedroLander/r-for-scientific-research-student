{
 "cells": [
  {
   "cell_type": "markdown",
   "id": "ae8b98d1",
   "metadata": {},
   "source": [
    "## Bar plots\n",
    "Bar plots are very common, so we need to learn how to make them. I would favour\\\n",
    "other plots over bar plots unless they are completely necessary.\\\n",
    "Replace _ to complete expressions and return the correct answer\\\n",
    "Restart R to remove previous results using: Ctrl/Cmd + shift + F10\\\n",
    "Remember - try to use google to help you answer questions\\\n",
    "Packages required\n",
    "library(tidyverse)"
   ]
  },
  {
   "cell_type": "code",
   "execution_count": null,
   "id": "13ae5ee0",
   "metadata": {
    "vscode": {
     "languageId": "r"
    }
   },
   "outputs": [],
   "source": [
    "library(\"tidyverse\")"
   ]
  },
  {
   "cell_type": "markdown",
   "id": "fb1544ce",
   "metadata": {},
   "source": [
    "### 1. Barplots\n",
    "#### 1.1 Import the data\n",
    "fish-lengths.rds contains length measurements of fish captured from sites that differ\\\n",
    "by marine park protection category (Management) and whether there is urbanisation\\\n",
    "located near the site (Shore)"
   ]
  },
  {
   "cell_type": "code",
   "execution_count": 2,
   "id": "48dcee32",
   "metadata": {
    "vscode": {
     "languageId": "r"
    }
   },
   "outputs": [],
   "source": [
    "fish <-\n",
    "  readr::read_rds(\"../data/fish-lengths.rds\")"
   ]
  },
  {
   "cell_type": "markdown",
   "id": "8a759130",
   "metadata": {},
   "source": [
    "Examine the data"
   ]
  },
  {
   "cell_type": "code",
   "execution_count": 4,
   "id": "49ce6a13",
   "metadata": {
    "vscode": {
     "languageId": "r"
    }
   },
   "outputs": [
    {
     "data": {
      "text/html": [
       "<table class=\"dataframe\">\n",
       "<caption>A data.frame: 5 × 3</caption>\n",
       "<thead>\n",
       "\t<tr><th></th><th scope=col>Management</th><th scope=col>Shore</th><th scope=col>Length</th></tr>\n",
       "\t<tr><th></th><th scope=col>&lt;fct&gt;</th><th scope=col>&lt;fct&gt;</th><th scope=col>&lt;dbl&gt;</th></tr>\n",
       "</thead>\n",
       "<tbody>\n",
       "\t<tr><th scope=row>1</th><td>Protected</td><td>Natural</td><td>10.4</td></tr>\n",
       "\t<tr><th scope=row>2</th><td>Protected</td><td>Natural</td><td> 2.0</td></tr>\n",
       "\t<tr><th scope=row>3</th><td>Protected</td><td>Natural</td><td> 3.0</td></tr>\n",
       "\t<tr><th scope=row>4</th><td>Protected</td><td>Natural</td><td> 7.3</td></tr>\n",
       "\t<tr><th scope=row>5</th><td>Protected</td><td>Natural</td><td> 9.2</td></tr>\n",
       "</tbody>\n",
       "</table>\n"
      ],
      "text/latex": [
       "A data.frame: 5 × 3\n",
       "\\begin{tabular}{r|lll}\n",
       "  & Management & Shore & Length\\\\\n",
       "  & <fct> & <fct> & <dbl>\\\\\n",
       "\\hline\n",
       "\t1 & Protected & Natural & 10.4\\\\\n",
       "\t2 & Protected & Natural &  2.0\\\\\n",
       "\t3 & Protected & Natural &  3.0\\\\\n",
       "\t4 & Protected & Natural &  7.3\\\\\n",
       "\t5 & Protected & Natural &  9.2\\\\\n",
       "\\end{tabular}\n"
      ],
      "text/markdown": [
       "\n",
       "A data.frame: 5 × 3\n",
       "\n",
       "| <!--/--> | Management &lt;fct&gt; | Shore &lt;fct&gt; | Length &lt;dbl&gt; |\n",
       "|---|---|---|---|\n",
       "| 1 | Protected | Natural | 10.4 |\n",
       "| 2 | Protected | Natural |  2.0 |\n",
       "| 3 | Protected | Natural |  3.0 |\n",
       "| 4 | Protected | Natural |  7.3 |\n",
       "| 5 | Protected | Natural |  9.2 |\n",
       "\n"
      ],
      "text/plain": [
       "  Management Shore   Length\n",
       "1 Protected  Natural 10.4  \n",
       "2 Protected  Natural  2.0  \n",
       "3 Protected  Natural  3.0  \n",
       "4 Protected  Natural  7.3  \n",
       "5 Protected  Natural  9.2  "
      ]
     },
     "metadata": {},
     "output_type": "display_data"
    }
   ],
   "source": [
    "head(fish, n = 5)"
   ]
  },
  {
   "cell_type": "markdown",
   "id": "4481250c",
   "metadata": {},
   "source": [
    "We want to create a barplot with standard errors.\\\n",
    "Create a new dataset that is the statistical summary of lengths by Management and\\\n",
    "Shore.\\\n",
    "That is, summarise Length by Management and Shore\\\n",
    "Include the summaries\n",
    "- number of observations\n",
    "- mean\n",
    "- SD\n",
    "- SE (SD / sqrt(n))"
   ]
  },
  {
   "cell_type": "markdown",
   "id": "57a2854f",
   "metadata": {},
   "source": [
    "fish_summary <-\n",
    "  _\n",
    "\n",
    "\n",
    "\n",
    "# 1.2 Create a barplot\n",
    "# Create a barplot of fish mean length by management and shore.\n",
    "# You should have the x value = Management and colour the bars by Shore. We use\n",
    "# the fill= for filling the bars with colour. Remember that bars will be stacked\n",
    "# by default\n",
    "fish_summary %>% \n",
    "  _\n",
    "\n",
    "\n",
    "# 1.3 Add error bars ----\n",
    "# Add error bars by including a geom_errorbar\n",
    "# Alter the width values to see how they affect error bar width and position\n",
    "_\n",
    "\n",
    "\n",
    "\n",
    "# 1.4 Change bar fill and line colour ----\n",
    "# 1. Change the bar outline colour to black\n",
    "# 2. Use scale_fill_manual() and provide a named vector to the values argument\n",
    "#    to change the bar fill colours to: Natural = 'white' and Urbanised = \"grey50\"\n",
    "fish_summary %>% \n",
    "  _\n",
    "\n",
    "\n",
    "# 1.5 Export the plot ----\n",
    "# Export the plot to the outputs folder\n",
    "_\n",
    "\n",
    "\n",
    "\n",
    "# 2.0 Extra exercises ----\n",
    "# Import the covid.csv, and plot the monthly number of cases for Spain using \n",
    "# a barplot. This is an \"epidemic-curve\"\n",
    "# Can you identify periods of outbreak?\n",
    "covid <-\n",
    "  readr::read_csv('data/covid.csv')\n",
    "\n",
    "\n",
    "\n",
    "## Conclusion ----\n",
    "# We examined\n",
    "# - making barplots\n",
    "# - including aesthetics\n",
    "# - adding error bars\n",
    "# - changing colours\n"
   ]
  }
 ],
 "metadata": {
  "kernelspec": {
   "display_name": "R",
   "language": "R",
   "name": "ir"
  },
  "language_info": {
   "codemirror_mode": "r",
   "file_extension": ".r",
   "mimetype": "text/x-r-source",
   "name": "R",
   "pygments_lexer": "r",
   "version": "4.5.0"
  }
 },
 "nbformat": 4,
 "nbformat_minor": 5
}
