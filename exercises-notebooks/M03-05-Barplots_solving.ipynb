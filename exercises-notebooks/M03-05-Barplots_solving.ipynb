{
 "cells": [
  {
   "cell_type": "markdown",
   "id": "ae8b98d1",
   "metadata": {},
   "source": [
    "## Bar plots\n",
    "Bar plots are very common, so we need to learn how to make them. I would favour\\\n",
    "other plots over bar plots unless they are completely necessary.\\\n",
    "Replace _ to complete expressions and return the correct answer\\\n",
    "Restart R to remove previous results using: Ctrl/Cmd + shift + F10\\\n",
    "Remember - try to use google to help you answer questions\\\n",
    "Packages required\n",
    "library(tidyverse)"
   ]
  },
  {
   "cell_type": "code",
   "execution_count": 1,
   "id": "13ae5ee0",
   "metadata": {
    "vscode": {
     "languageId": "r"
    }
   },
   "outputs": [
    {
     "name": "stderr",
     "output_type": "stream",
     "text": [
      "── \u001b[1mAttaching core tidyverse packages\u001b[22m ──────────────────────── tidyverse 2.0.0 ──\n",
      "\u001b[32m✔\u001b[39m \u001b[34mdplyr    \u001b[39m 1.1.4     \u001b[32m✔\u001b[39m \u001b[34mreadr    \u001b[39m 2.1.5\n",
      "\u001b[32m✔\u001b[39m \u001b[34mforcats  \u001b[39m 1.0.0     \u001b[32m✔\u001b[39m \u001b[34mstringr  \u001b[39m 1.5.1\n",
      "\u001b[32m✔\u001b[39m \u001b[34mggplot2  \u001b[39m 3.5.2     \u001b[32m✔\u001b[39m \u001b[34mtibble   \u001b[39m 3.2.1\n",
      "\u001b[32m✔\u001b[39m \u001b[34mlubridate\u001b[39m 1.9.4     \u001b[32m✔\u001b[39m \u001b[34mtidyr    \u001b[39m 1.3.1\n",
      "\u001b[32m✔\u001b[39m \u001b[34mpurrr    \u001b[39m 1.0.4     \n",
      "── \u001b[1mConflicts\u001b[22m ────────────────────────────────────────── tidyverse_conflicts() ──\n",
      "\u001b[31m✖\u001b[39m \u001b[34mdplyr\u001b[39m::\u001b[32mfilter()\u001b[39m masks \u001b[34mstats\u001b[39m::filter()\n",
      "\u001b[31m✖\u001b[39m \u001b[34mdplyr\u001b[39m::\u001b[32mlag()\u001b[39m    masks \u001b[34mstats\u001b[39m::lag()\n",
      "\u001b[36mℹ\u001b[39m Use the conflicted package (\u001b[3m\u001b[34m<http://conflicted.r-lib.org/>\u001b[39m\u001b[23m) to force all conflicts to become errors\n"
     ]
    }
   ],
   "source": [
    "library(\"tidyverse\")"
   ]
  },
  {
   "cell_type": "markdown",
   "id": "fb1544ce",
   "metadata": {},
   "source": [
    "### 1. Barplots\n",
    "#### 1.1 Import the data\n",
    "fish-lengths.rds contains length measurements of fish captured from sites that differ\\\n",
    "by marine park protection category (Management) and whether there is urbanisation\\\n",
    "located near the site (Shore)"
   ]
  },
  {
   "cell_type": "code",
   "execution_count": 2,
   "id": "48dcee32",
   "metadata": {
    "vscode": {
     "languageId": "r"
    }
   },
   "outputs": [],
   "source": [
    "fish <-\n",
    "  readr::read_rds(\"../data/fish-lengths.rds\")"
   ]
  },
  {
   "cell_type": "markdown",
   "id": "8a759130",
   "metadata": {},
   "source": [
    "Examine the data"
   ]
  },
  {
   "cell_type": "code",
   "execution_count": 3,
   "id": "49ce6a13",
   "metadata": {
    "vscode": {
     "languageId": "r"
    }
   },
   "outputs": [
    {
     "data": {
      "text/html": [
       "<table class=\"dataframe\">\n",
       "<caption>A data.frame: 5 × 3</caption>\n",
       "<thead>\n",
       "\t<tr><th></th><th scope=col>Management</th><th scope=col>Shore</th><th scope=col>Length</th></tr>\n",
       "\t<tr><th></th><th scope=col>&lt;fct&gt;</th><th scope=col>&lt;fct&gt;</th><th scope=col>&lt;dbl&gt;</th></tr>\n",
       "</thead>\n",
       "<tbody>\n",
       "\t<tr><th scope=row>1</th><td>Protected</td><td>Natural</td><td>10.4</td></tr>\n",
       "\t<tr><th scope=row>2</th><td>Protected</td><td>Natural</td><td> 2.0</td></tr>\n",
       "\t<tr><th scope=row>3</th><td>Protected</td><td>Natural</td><td> 3.0</td></tr>\n",
       "\t<tr><th scope=row>4</th><td>Protected</td><td>Natural</td><td> 7.3</td></tr>\n",
       "\t<tr><th scope=row>5</th><td>Protected</td><td>Natural</td><td> 9.2</td></tr>\n",
       "</tbody>\n",
       "</table>\n"
      ],
      "text/latex": [
       "A data.frame: 5 × 3\n",
       "\\begin{tabular}{r|lll}\n",
       "  & Management & Shore & Length\\\\\n",
       "  & <fct> & <fct> & <dbl>\\\\\n",
       "\\hline\n",
       "\t1 & Protected & Natural & 10.4\\\\\n",
       "\t2 & Protected & Natural &  2.0\\\\\n",
       "\t3 & Protected & Natural &  3.0\\\\\n",
       "\t4 & Protected & Natural &  7.3\\\\\n",
       "\t5 & Protected & Natural &  9.2\\\\\n",
       "\\end{tabular}\n"
      ],
      "text/markdown": [
       "\n",
       "A data.frame: 5 × 3\n",
       "\n",
       "| <!--/--> | Management &lt;fct&gt; | Shore &lt;fct&gt; | Length &lt;dbl&gt; |\n",
       "|---|---|---|---|\n",
       "| 1 | Protected | Natural | 10.4 |\n",
       "| 2 | Protected | Natural |  2.0 |\n",
       "| 3 | Protected | Natural |  3.0 |\n",
       "| 4 | Protected | Natural |  7.3 |\n",
       "| 5 | Protected | Natural |  9.2 |\n",
       "\n"
      ],
      "text/plain": [
       "  Management Shore   Length\n",
       "1 Protected  Natural 10.4  \n",
       "2 Protected  Natural  2.0  \n",
       "3 Protected  Natural  3.0  \n",
       "4 Protected  Natural  7.3  \n",
       "5 Protected  Natural  9.2  "
      ]
     },
     "metadata": {},
     "output_type": "display_data"
    }
   ],
   "source": [
    "head(fish, n = 5)"
   ]
  },
  {
   "cell_type": "markdown",
   "id": "4481250c",
   "metadata": {},
   "source": [
    "We want to create a barplot with standard errors.\\\n",
    "Create a new dataset that is the statistical summary of lengths by Management and Shore.\\\n",
    "That is, summarise Length by Management and Shore\\\n",
    "Include the summaries:\n",
    "- number of observations\n",
    "- mean\n",
    "- SD\n",
    "- SE (SD / sqrt(n))"
   ]
  },
  {
   "cell_type": "code",
   "execution_count": 8,
   "id": "3e5c67c4",
   "metadata": {
    "vscode": {
     "languageId": "r"
    }
   },
   "outputs": [
    {
     "data": {
      "text/html": [
       "<table class=\"dataframe\">\n",
       "<caption>A tibble: 4 × 6</caption>\n",
       "<thead>\n",
       "\t<tr><th scope=col>Management</th><th scope=col>Shore</th><th scope=col>length_count</th><th scope=col>length_mean</th><th scope=col>length_sd</th><th scope=col>length_se</th></tr>\n",
       "\t<tr><th scope=col>&lt;fct&gt;</th><th scope=col>&lt;fct&gt;</th><th scope=col>&lt;int&gt;</th><th scope=col>&lt;dbl&gt;</th><th scope=col>&lt;dbl&gt;</th><th scope=col>&lt;dbl&gt;</th></tr>\n",
       "</thead>\n",
       "<tbody>\n",
       "\t<tr><td>Unprotected</td><td>Natural  </td><td>20</td><td>10.265</td><td>7.652745</td><td>1.7112057</td></tr>\n",
       "\t<tr><td>Unprotected</td><td>Urbanised</td><td>20</td><td> 8.760</td><td>6.565973</td><td>1.4681962</td></tr>\n",
       "\t<tr><td>Protected  </td><td>Natural  </td><td>20</td><td> 6.645</td><td>4.212197</td><td>0.9418759</td></tr>\n",
       "\t<tr><td>Protected  </td><td>Urbanised</td><td>20</td><td> 7.705</td><td>3.822988</td><td>0.8548461</td></tr>\n",
       "</tbody>\n",
       "</table>\n"
      ],
      "text/latex": [
       "A tibble: 4 × 6\n",
       "\\begin{tabular}{llllll}\n",
       " Management & Shore & length\\_count & length\\_mean & length\\_sd & length\\_se\\\\\n",
       " <fct> & <fct> & <int> & <dbl> & <dbl> & <dbl>\\\\\n",
       "\\hline\n",
       "\t Unprotected & Natural   & 20 & 10.265 & 7.652745 & 1.7112057\\\\\n",
       "\t Unprotected & Urbanised & 20 &  8.760 & 6.565973 & 1.4681962\\\\\n",
       "\t Protected   & Natural   & 20 &  6.645 & 4.212197 & 0.9418759\\\\\n",
       "\t Protected   & Urbanised & 20 &  7.705 & 3.822988 & 0.8548461\\\\\n",
       "\\end{tabular}\n"
      ],
      "text/markdown": [
       "\n",
       "A tibble: 4 × 6\n",
       "\n",
       "| Management &lt;fct&gt; | Shore &lt;fct&gt; | length_count &lt;int&gt; | length_mean &lt;dbl&gt; | length_sd &lt;dbl&gt; | length_se &lt;dbl&gt; |\n",
       "|---|---|---|---|---|---|\n",
       "| Unprotected | Natural   | 20 | 10.265 | 7.652745 | 1.7112057 |\n",
       "| Unprotected | Urbanised | 20 |  8.760 | 6.565973 | 1.4681962 |\n",
       "| Protected   | Natural   | 20 |  6.645 | 4.212197 | 0.9418759 |\n",
       "| Protected   | Urbanised | 20 |  7.705 | 3.822988 | 0.8548461 |\n",
       "\n"
      ],
      "text/plain": [
       "  Management  Shore     length_count length_mean length_sd length_se\n",
       "1 Unprotected Natural   20           10.265      7.652745  1.7112057\n",
       "2 Unprotected Urbanised 20            8.760      6.565973  1.4681962\n",
       "3 Protected   Natural   20            6.645      4.212197  0.9418759\n",
       "4 Protected   Urbanised 20            7.705      3.822988  0.8548461"
      ]
     },
     "metadata": {},
     "output_type": "display_data"
    }
   ],
   "source": [
    "fish_summary <-\n",
    "  fish |>\n",
    "  group_by(Management, Shore) |>\n",
    "  summarise(length_count = n(),\n",
    "            length_mean = mean(Length),\n",
    "            length_sd = sd(Length),\n",
    "            length_se = length_sd / sqrt(length_count),\n",
    "            .groups = \"drop\")\n",
    "fish_summary"
   ]
  },
  {
   "cell_type": "markdown",
   "id": "7e758e9c",
   "metadata": {},
   "source": [
    "#### 1.2 Create a barplot\n",
    "Create a barplot of fish mean length by management and shore.\\\n",
    "You should have the x value = Management and colour the bars by Shore. We use the fill= for filling the bars with colour. Remember that bars will be stacked by default"
   ]
  },
  {
   "cell_type": "code",
   "execution_count": null,
   "id": "6ab4dc21",
   "metadata": {
    "vscode": {
     "languageId": "r"
    }
   },
   "outputs": [
    {
     "data": {
      "image/png": "[encoded data removed]",
      "text/plain": [
       "plot without title"
      ]
     },
     "metadata": {
      "image/png": {
       "height": 420,
       "width": 420
      }
     },
     "output_type": "display_data"
    }
   ],
   "source": [
    "fish_summary |>\n",
    "  ggplot(aes(\n",
    "             x = Management,\n",
    "             y = length_mean,\n",
    "             fill = Shore)) +\n",
    "  geom_col(position = \"dodge2\")\n"
   ]
  },
  {
   "cell_type": "markdown",
   "id": "de0aee48",
   "metadata": {},
   "source": [
    "#### 1.3 Add error bars\n",
    "Add error bars by including a geom_errorbar.\\\n",
    "Alter the width values to see how they affect error bar width and position"
   ]
  },
  {
   "cell_type": "code",
   "execution_count": null,
   "id": "f05cc282",
   "metadata": {
    "vscode": {
     "languageId": "r"
    }
   },
   "outputs": [
    {
     "data": {
      "image/png": "[encoded data removed]",
      "text/plain": [
       "plot without title"
      ]
     },
     "metadata": {
      "image/png": {
       "height": 420,
       "width": 420
      }
     },
     "output_type": "display_data"
    }
   ],
   "source": [
    "fish_summary |>\n",
    "  ggplot(aes(\n",
    "             x = Management,\n",
    "             y = length_mean,\n",
    "             fill = Shore)) +\n",
    "  geom_col(position = \"dodge2\") +\n",
    "  geom_errorbar(aes(\n",
    "                    ymin = length_mean - length_se,\n",
    "                    ymax = length_mean + length_se),\n",
    "  width = 0.25,\n",
    "  position = position_dodge(width = 0.9))"
   ]
  },
  {
   "cell_type": "markdown",
   "id": "e5e4585a",
   "metadata": {},
   "source": [
    "#### 1.4 Change bar fill and line colour\n",
    "1. Change the bar outline colour to black\n",
    "2. Use scale_fill_manual() and provide a named vector to the values argument to change the bar fill colours to: Natural = 'white' and Urbanised = \"grey50\"\n"
   ]
  },
  {
   "cell_type": "code",
   "execution_count": 18,
   "id": "bf9d3363",
   "metadata": {
    "vscode": {
     "languageId": "r"
    }
   },
   "outputs": [
    {
     "data": {
      "image/png": "[encoded data removed]",
      "text/plain": [
       "plot without title"
      ]
     },
     "metadata": {
      "image/png": {
       "height": 420,
       "width": 420
      }
     },
     "output_type": "display_data"
    }
   ],
   "source": [
    "fish_summary |>\n",
    "  ggplot(aes(\n",
    "             x = Management,\n",
    "             y = length_mean,\n",
    "             fill = Shore)) +\n",
    "  geom_col(\n",
    "    position = \"dodge2\",\n",
    "    color = \"black\") +\n",
    "  geom_errorbar(aes(\n",
    "                    ymin = length_mean - length_se,\n",
    "                    ymax = length_mean + length_se),\n",
    "  width = 0.25,\n",
    "  position = position_dodge(width = 0.9)) +\n",
    "  scale_fill_manual(\n",
    "    values = list(Natural = \"white\", Urbanised = \"grey50\")\n",
    "  )"
   ]
  },
  {
   "cell_type": "markdown",
   "id": "aec84e6d",
   "metadata": {},
   "source": [
    "#### 1.5 Export the plot\n",
    "Export the plot to the outputs folder."
   ]
  },
  {
   "cell_type": "code",
   "execution_count": 19,
   "id": "08ada2b4",
   "metadata": {
    "vscode": {
     "languageId": "r"
    }
   },
   "outputs": [
    {
     "name": "stderr",
     "output_type": "stream",
     "text": [
      "\u001b[1m\u001b[22mSaving 7 x 7 in image\n"
     ]
    }
   ],
   "source": [
    "ggsave(filename = \"../outputs/fish_lengths.png\")"
   ]
  },
  {
   "cell_type": "markdown",
   "id": "48afe2af",
   "metadata": {},
   "source": [
    "---\n",
    "## 2.0 Extra exercises\n",
    " Import the covid.csv, and plot the monthly number of cases for Spain using \n",
    " a barplot. This is an \"epidemic-curve\"\n",
    " Can you identify periods of outbreak?\n"
   ]
  },
  {
   "cell_type": "code",
   "execution_count": 42,
   "id": "bc26f7e7",
   "metadata": {
    "vscode": {
     "languageId": "r"
    }
   },
   "outputs": [
    {
     "data": {
      "text/html": [
       "<table class=\"dataframe\">\n",
       "<caption>A tibble: 3 × 11</caption>\n",
       "<thead>\n",
       "\t<tr><th scope=col>dateRep</th><th scope=col>day</th><th scope=col>month</th><th scope=col>year</th><th scope=col>cases</th><th scope=col>deaths</th><th scope=col>countriesAndTerritories</th><th scope=col>geoId</th><th scope=col>countryterritoryCode</th><th scope=col>popData2020</th><th scope=col>continentExp</th></tr>\n",
       "\t<tr><th scope=col>&lt;date&gt;</th><th scope=col>&lt;dbl&gt;</th><th scope=col>&lt;dbl&gt;</th><th scope=col>&lt;dbl&gt;</th><th scope=col>&lt;dbl&gt;</th><th scope=col>&lt;dbl&gt;</th><th scope=col>&lt;chr&gt;</th><th scope=col>&lt;chr&gt;</th><th scope=col>&lt;chr&gt;</th><th scope=col>&lt;dbl&gt;</th><th scope=col>&lt;chr&gt;</th></tr>\n",
       "</thead>\n",
       "<tbody>\n",
       "\t<tr><td>2022-10-23</td><td>23</td><td>10</td><td>2022</td><td>3557</td><td>0</td><td>Austria</td><td>AT</td><td>AUT</td><td>8901064</td><td>Europe</td></tr>\n",
       "\t<tr><td>2022-10-22</td><td>22</td><td>10</td><td>2022</td><td>5494</td><td>4</td><td>Austria</td><td>AT</td><td>AUT</td><td>8901064</td><td>Europe</td></tr>\n",
       "\t<tr><td>2022-10-21</td><td>21</td><td>10</td><td>2022</td><td>7776</td><td>4</td><td>Austria</td><td>AT</td><td>AUT</td><td>8901064</td><td>Europe</td></tr>\n",
       "</tbody>\n",
       "</table>\n"
      ],
      "text/latex": [
       "A tibble: 3 × 11\n",
       "\\begin{tabular}{lllllllllll}\n",
       " dateRep & day & month & year & cases & deaths & countriesAndTerritories & geoId & countryterritoryCode & popData2020 & continentExp\\\\\n",
       " <date> & <dbl> & <dbl> & <dbl> & <dbl> & <dbl> & <chr> & <chr> & <chr> & <dbl> & <chr>\\\\\n",
       "\\hline\n",
       "\t 2022-10-23 & 23 & 10 & 2022 & 3557 & 0 & Austria & AT & AUT & 8901064 & Europe\\\\\n",
       "\t 2022-10-22 & 22 & 10 & 2022 & 5494 & 4 & Austria & AT & AUT & 8901064 & Europe\\\\\n",
       "\t 2022-10-21 & 21 & 10 & 2022 & 7776 & 4 & Austria & AT & AUT & 8901064 & Europe\\\\\n",
       "\\end{tabular}\n"
      ],
      "text/markdown": [
       "\n",
       "A tibble: 3 × 11\n",
       "\n",
       "| dateRep &lt;date&gt; | day &lt;dbl&gt; | month &lt;dbl&gt; | year &lt;dbl&gt; | cases &lt;dbl&gt; | deaths &lt;dbl&gt; | countriesAndTerritories &lt;chr&gt; | geoId &lt;chr&gt; | countryterritoryCode &lt;chr&gt; | popData2020 &lt;dbl&gt; | continentExp &lt;chr&gt; |\n",
       "|---|---|---|---|---|---|---|---|---|---|---|\n",
       "| 2022-10-23 | 23 | 10 | 2022 | 3557 | 0 | Austria | AT | AUT | 8901064 | Europe |\n",
       "| 2022-10-22 | 22 | 10 | 2022 | 5494 | 4 | Austria | AT | AUT | 8901064 | Europe |\n",
       "| 2022-10-21 | 21 | 10 | 2022 | 7776 | 4 | Austria | AT | AUT | 8901064 | Europe |\n",
       "\n"
      ],
      "text/plain": [
       "  dateRep    day month year cases deaths countriesAndTerritories geoId\n",
       "1 2022-10-23 23  10    2022 3557  0      Austria                 AT   \n",
       "2 2022-10-22 22  10    2022 5494  4      Austria                 AT   \n",
       "3 2022-10-21 21  10    2022 7776  4      Austria                 AT   \n",
       "  countryterritoryCode popData2020 continentExp\n",
       "1 AUT                  8901064     Europe      \n",
       "2 AUT                  8901064     Europe      \n",
       "3 AUT                  8901064     Europe      "
      ]
     },
     "metadata": {},
     "output_type": "display_data"
    }
   ],
   "source": [
    "covid <-\n",
    "  readr::read_csv(\"../data/covid.csv\", show_col_types = FALSE)\n",
    "head(covid, n = 3)"
   ]
  },
  {
   "cell_type": "code",
   "execution_count": 40,
   "id": "f0ca2a16",
   "metadata": {
    "vscode": {
     "languageId": "r"
    }
   },
   "outputs": [
    {
     "data": {
      "text/html": [
       "<table class=\"dataframe\">\n",
       "<caption>A tibble: 30 × 4</caption>\n",
       "<thead>\n",
       "\t<tr><th scope=col>year</th><th scope=col>month</th><th scope=col>count</th><th scope=col>year_month</th></tr>\n",
       "\t<tr><th scope=col>&lt;dbl&gt;</th><th scope=col>&lt;dbl&gt;</th><th scope=col>&lt;int&gt;</th><th scope=col>&lt;chr&gt;</th></tr>\n",
       "</thead>\n",
       "<tbody>\n",
       "\t<tr><td>2020</td><td> 1</td><td> 81</td><td>2020_1 </td></tr>\n",
       "\t<tr><td>2020</td><td> 2</td><td>242</td><td>2020_2 </td></tr>\n",
       "\t<tr><td>2020</td><td> 3</td><td>884</td><td>2020_3 </td></tr>\n",
       "\t<tr><td>2020</td><td> 4</td><td>900</td><td>2020_4 </td></tr>\n",
       "\t<tr><td>2020</td><td> 5</td><td>930</td><td>2020_5 </td></tr>\n",
       "\t<tr><td>2020</td><td> 6</td><td>900</td><td>2020_6 </td></tr>\n",
       "\t<tr><td>2020</td><td> 7</td><td>930</td><td>2020_7 </td></tr>\n",
       "\t<tr><td>2020</td><td> 8</td><td>930</td><td>2020_8 </td></tr>\n",
       "\t<tr><td>2020</td><td> 9</td><td>900</td><td>2020_9 </td></tr>\n",
       "\t<tr><td>2020</td><td>10</td><td>930</td><td>2020_10</td></tr>\n",
       "\t<tr><td>2020</td><td>11</td><td>894</td><td>2020_11</td></tr>\n",
       "\t<tr><td>2020</td><td>12</td><td>907</td><td>2020_12</td></tr>\n",
       "\t<tr><td>2021</td><td> 1</td><td>912</td><td>2021_1 </td></tr>\n",
       "\t<tr><td>2021</td><td> 2</td><td>820</td><td>2021_2 </td></tr>\n",
       "\t<tr><td>2021</td><td> 3</td><td>910</td><td>2021_3 </td></tr>\n",
       "\t<tr><td>2021</td><td> 4</td><td>889</td><td>2021_4 </td></tr>\n",
       "\t<tr><td>2021</td><td> 5</td><td>910</td><td>2021_5 </td></tr>\n",
       "\t<tr><td>2021</td><td> 6</td><td>883</td><td>2021_6 </td></tr>\n",
       "\t<tr><td>2021</td><td> 7</td><td>915</td><td>2021_7 </td></tr>\n",
       "\t<tr><td>2021</td><td> 8</td><td>930</td><td>2021_8 </td></tr>\n",
       "\t<tr><td>2021</td><td> 9</td><td>896</td><td>2021_9 </td></tr>\n",
       "\t<tr><td>2021</td><td>10</td><td>919</td><td>2021_10</td></tr>\n",
       "\t<tr><td>2021</td><td>11</td><td>891</td><td>2021_11</td></tr>\n",
       "\t<tr><td>2021</td><td>12</td><td>930</td><td>2021_12</td></tr>\n",
       "\t<tr><td>2022</td><td> 1</td><td>928</td><td>2022_1 </td></tr>\n",
       "\t<tr><td>2022</td><td> 2</td><td>838</td><td>2022_2 </td></tr>\n",
       "\t<tr><td>2022</td><td> 3</td><td>929</td><td>2022_3 </td></tr>\n",
       "\t<tr><td>2022</td><td> 4</td><td>885</td><td>2022_4 </td></tr>\n",
       "\t<tr><td>2022</td><td> 5</td><td>901</td><td>2022_5 </td></tr>\n",
       "\t<tr><td>2022</td><td> 6</td><td>841</td><td>2022_6 </td></tr>\n",
       "</tbody>\n",
       "</table>\n"
      ],
      "text/latex": [
       "A tibble: 30 × 4\n",
       "\\begin{tabular}{llll}\n",
       " year & month & count & year\\_month\\\\\n",
       " <dbl> & <dbl> & <int> & <chr>\\\\\n",
       "\\hline\n",
       "\t 2020 &  1 &  81 & 2020\\_1 \\\\\n",
       "\t 2020 &  2 & 242 & 2020\\_2 \\\\\n",
       "\t 2020 &  3 & 884 & 2020\\_3 \\\\\n",
       "\t 2020 &  4 & 900 & 2020\\_4 \\\\\n",
       "\t 2020 &  5 & 930 & 2020\\_5 \\\\\n",
       "\t 2020 &  6 & 900 & 2020\\_6 \\\\\n",
       "\t 2020 &  7 & 930 & 2020\\_7 \\\\\n",
       "\t 2020 &  8 & 930 & 2020\\_8 \\\\\n",
       "\t 2020 &  9 & 900 & 2020\\_9 \\\\\n",
       "\t 2020 & 10 & 930 & 2020\\_10\\\\\n",
       "\t 2020 & 11 & 894 & 2020\\_11\\\\\n",
       "\t 2020 & 12 & 907 & 2020\\_12\\\\\n",
       "\t 2021 &  1 & 912 & 2021\\_1 \\\\\n",
       "\t 2021 &  2 & 820 & 2021\\_2 \\\\\n",
       "\t 2021 &  3 & 910 & 2021\\_3 \\\\\n",
       "\t 2021 &  4 & 889 & 2021\\_4 \\\\\n",
       "\t 2021 &  5 & 910 & 2021\\_5 \\\\\n",
       "\t 2021 &  6 & 883 & 2021\\_6 \\\\\n",
       "\t 2021 &  7 & 915 & 2021\\_7 \\\\\n",
       "\t 2021 &  8 & 930 & 2021\\_8 \\\\\n",
       "\t 2021 &  9 & 896 & 2021\\_9 \\\\\n",
       "\t 2021 & 10 & 919 & 2021\\_10\\\\\n",
       "\t 2021 & 11 & 891 & 2021\\_11\\\\\n",
       "\t 2021 & 12 & 930 & 2021\\_12\\\\\n",
       "\t 2022 &  1 & 928 & 2022\\_1 \\\\\n",
       "\t 2022 &  2 & 838 & 2022\\_2 \\\\\n",
       "\t 2022 &  3 & 929 & 2022\\_3 \\\\\n",
       "\t 2022 &  4 & 885 & 2022\\_4 \\\\\n",
       "\t 2022 &  5 & 901 & 2022\\_5 \\\\\n",
       "\t 2022 &  6 & 841 & 2022\\_6 \\\\\n",
       "\\end{tabular}\n"
      ],
      "text/markdown": [
       "\n",
       "A tibble: 30 × 4\n",
       "\n",
       "| year &lt;dbl&gt; | month &lt;dbl&gt; | count &lt;int&gt; | year_month &lt;chr&gt; |\n",
       "|---|---|---|---|\n",
       "| 2020 |  1 |  81 | 2020_1  |\n",
       "| 2020 |  2 | 242 | 2020_2  |\n",
       "| 2020 |  3 | 884 | 2020_3  |\n",
       "| 2020 |  4 | 900 | 2020_4  |\n",
       "| 2020 |  5 | 930 | 2020_5  |\n",
       "| 2020 |  6 | 900 | 2020_6  |\n",
       "| 2020 |  7 | 930 | 2020_7  |\n",
       "| 2020 |  8 | 930 | 2020_8  |\n",
       "| 2020 |  9 | 900 | 2020_9  |\n",
       "| 2020 | 10 | 930 | 2020_10 |\n",
       "| 2020 | 11 | 894 | 2020_11 |\n",
       "| 2020 | 12 | 907 | 2020_12 |\n",
       "| 2021 |  1 | 912 | 2021_1  |\n",
       "| 2021 |  2 | 820 | 2021_2  |\n",
       "| 2021 |  3 | 910 | 2021_3  |\n",
       "| 2021 |  4 | 889 | 2021_4  |\n",
       "| 2021 |  5 | 910 | 2021_5  |\n",
       "| 2021 |  6 | 883 | 2021_6  |\n",
       "| 2021 |  7 | 915 | 2021_7  |\n",
       "| 2021 |  8 | 930 | 2021_8  |\n",
       "| 2021 |  9 | 896 | 2021_9  |\n",
       "| 2021 | 10 | 919 | 2021_10 |\n",
       "| 2021 | 11 | 891 | 2021_11 |\n",
       "| 2021 | 12 | 930 | 2021_12 |\n",
       "| 2022 |  1 | 928 | 2022_1  |\n",
       "| 2022 |  2 | 838 | 2022_2  |\n",
       "| 2022 |  3 | 929 | 2022_3  |\n",
       "| 2022 |  4 | 885 | 2022_4  |\n",
       "| 2022 |  5 | 901 | 2022_5  |\n",
       "| 2022 |  6 | 841 | 2022_6  |\n",
       "\n"
      ],
      "text/plain": [
       "   year month count year_month\n",
       "1  2020  1     81   2020_1    \n",
       "2  2020  2    242   2020_2    \n",
       "3  2020  3    884   2020_3    \n",
       "4  2020  4    900   2020_4    \n",
       "5  2020  5    930   2020_5    \n",
       "6  2020  6    900   2020_6    \n",
       "7  2020  7    930   2020_7    \n",
       "8  2020  8    930   2020_8    \n",
       "9  2020  9    900   2020_9    \n",
       "10 2020 10    930   2020_10   \n",
       "11 2020 11    894   2020_11   \n",
       "12 2020 12    907   2020_12   \n",
       "13 2021  1    912   2021_1    \n",
       "14 2021  2    820   2021_2    \n",
       "15 2021  3    910   2021_3    \n",
       "16 2021  4    889   2021_4    \n",
       "17 2021  5    910   2021_5    \n",
       "18 2021  6    883   2021_6    \n",
       "19 2021  7    915   2021_7    \n",
       "20 2021  8    930   2021_8    \n",
       "21 2021  9    896   2021_9    \n",
       "22 2021 10    919   2021_10   \n",
       "23 2021 11    891   2021_11   \n",
       "24 2021 12    930   2021_12   \n",
       "25 2022  1    928   2022_1    \n",
       "26 2022  2    838   2022_2    \n",
       "27 2022  3    929   2022_3    \n",
       "28 2022  4    885   2022_4    \n",
       "29 2022  5    901   2022_5    \n",
       "30 2022  6    841   2022_6    "
      ]
     },
     "metadata": {},
     "output_type": "display_data"
    }
   ],
   "source": [
    "covid_summary <- covid |>\n",
    "  group_by(year, month) |>\n",
    "  summarise(\n",
    "            count = n(),\n",
    "            .groups = \"drop\") |>\n",
    "  mutate(year_month = paste(year, month, sep = \"_\"))\n",
    "head(covid_summary, n = 30)"
   ]
  },
  {
   "cell_type": "code",
   "execution_count": null,
   "id": "e397abf5",
   "metadata": {
    "vscode": {
     "languageId": "r"
    }
   },
   "outputs": [
    {
     "name": "stderr",
     "output_type": "stream",
     "text": [
      "ERROR while rich displaying an object: \u001b[1m\u001b[33mError\u001b[39m in `geom_histogram()`:\u001b[22m\n",
      "\u001b[1m\u001b[22m\u001b[33m!\u001b[39m Problem while computing stat.\n",
      "\u001b[36mℹ\u001b[39m Error occurred in the 1st layer.\n",
      "\u001b[1mCaused by error in `setup_params()`:\u001b[22m\n",
      "\u001b[1m\u001b[22m\u001b[33m!\u001b[39m `stat_bin()` requires a continuous \u001b[32mx\u001b[39m aesthetic.\n",
      "\u001b[31m✖\u001b[39m the \u001b[32mx\u001b[39m aesthetic is discrete.\n",
      "\u001b[36mℹ\u001b[39m Perhaps you want `stat=\"count\"`?\n",
      "\n",
      "Traceback:\n",
      "1. sapply(x, f, simplify = simplify)\n",
      "2. lapply(X = X, FUN = FUN, ...)\n",
      "3. FUN(X[[i]], ...)\n",
      "4. tryCatch(withCallingHandlers({\n",
      " .     if (!mime %in% names(repr::mime2repr)) \n",
      " .         stop(\"No repr_* for mimetype \", mime, \" in repr::mime2repr\")\n",
      " .     rpr <- repr::mime2repr[[mime]](obj)\n",
      " .     if (is.null(rpr)) \n",
      " .         return(NULL)\n",
      " .     prepare_content(is.raw(rpr), rpr)\n",
      " . }, error = error_handler), error = outer_handler)\n",
      "5. tryCatchList(expr, classes, parentenv, handlers)\n",
      "6. tryCatchOne(expr, names, parentenv, handlers[[1L]])\n",
      "7. doTryCatch(return(expr), name, parentenv, handler)\n",
      "8. withCallingHandlers({\n",
      " .     if (!mime %in% names(repr::mime2repr)) \n",
      " .         stop(\"No repr_* for mimetype \", mime, \" in repr::mime2repr\")\n",
      " .     rpr <- repr::mime2repr[[mime]](obj)\n",
      " .     if (is.null(rpr)) \n",
      " .         return(NULL)\n",
      " .     prepare_content(is.raw(rpr), rpr)\n",
      " . }, error = error_handler)\n",
      "9. repr::mime2repr[[mime]](obj)\n",
      "10. repr_text.default(obj)\n",
      "11. paste(capture.output(print(obj)), collapse = \"\\n\")\n",
      "12. capture.output(print(obj))\n",
      "13. withVisible(...elt(i))\n",
      "14. print(obj)\n",
      "15. print.ggplot(obj)\n",
      "16. ggplot_build(x)\n",
      "17. ggplot_build.ggplot(x)\n",
      "18. by_layer(function(l, d) l$compute_statistic(d, layout), layers, \n",
      "  .     data, \"computing stat\")\n",
      "19. try_fetch(for (i in seq_along(data)) {\n",
      "  .     out[[i]] <- f(l = layers[[i]], d = data[[i]])\n",
      "  . }, error = function(cnd) {\n",
      "  .     cli::cli_abort(c(\"Problem while {step}.\", i = \"Error occurred in the {ordinal(i)} layer.\"), \n",
      "  .         call = layers[[i]]$constructor, parent = cnd)\n",
      "  . })\n",
      "20. tryCatch(withCallingHandlers(expr, condition = function(cnd) {\n",
      "  .     {\n",
      "  .         .__handler_frame__. <- TRUE\n",
      "  .         .__setup_frame__. <- frame\n",
      "  .         if (inherits(cnd, \"message\")) {\n",
      "  .             except <- c(\"warning\", \"error\")\n",
      "  .         }\n",
      "  .         else if (inherits(cnd, \"warning\")) {\n",
      "  .             except <- \"error\"\n",
      "  .         }\n",
      "  .         else {\n",
      "  .             except <- \"\"\n",
      "  .         }\n",
      "  .     }\n",
      "  .     while (!is_null(cnd)) {\n",
      "  .         if (inherits(cnd, \"error\")) {\n",
      "  .             out <- handlers[[1L]](cnd)\n",
      "  .             if (!inherits(out, \"rlang_zap\")) \n",
      "  .                 throw(out)\n",
      "  .         }\n",
      "  .         inherit <- .subset2(.subset2(cnd, \"rlang\"), \"inherit\")\n",
      "  .         if (is_false(inherit)) {\n",
      "  .             return()\n",
      "  .         }\n",
      "  .         cnd <- .subset2(cnd, \"parent\")\n",
      "  .     }\n",
      "  . }), stackOverflowError = handlers[[1L]])\n",
      "21. tryCatchList(expr, classes, parentenv, handlers)\n",
      "22. tryCatchOne(expr, names, parentenv, handlers[[1L]])\n",
      "23. doTryCatch(return(expr), name, parentenv, handler)\n",
      "24. withCallingHandlers(expr, condition = function(cnd) {\n",
      "  .     {\n",
      "  .         .__handler_frame__. <- TRUE\n",
      "  .         .__setup_frame__. <- frame\n",
      "  .         if (inherits(cnd, \"message\")) {\n",
      "  .             except <- c(\"warning\", \"error\")\n",
      "  .         }\n",
      "  .         else if (inherits(cnd, \"warning\")) {\n",
      "  .             except <- \"error\"\n",
      "  .         }\n",
      "  .         else {\n",
      "  .             except <- \"\"\n",
      "  .         }\n",
      "  .     }\n",
      "  .     while (!is_null(cnd)) {\n",
      "  .         if (inherits(cnd, \"error\")) {\n",
      "  .             out <- handlers[[1L]](cnd)\n",
      "  .             if (!inherits(out, \"rlang_zap\")) \n",
      "  .                 throw(out)\n",
      "  .         }\n",
      "  .         inherit <- .subset2(.subset2(cnd, \"rlang\"), \"inherit\")\n",
      "  .         if (is_false(inherit)) {\n",
      "  .             return()\n",
      "  .         }\n",
      "  .         cnd <- .subset2(cnd, \"parent\")\n",
      "  .     }\n",
      "  . })\n",
      "25. f(l = layers[[i]], d = data[[i]])\n",
      "26. l$compute_statistic(d, layout)\n",
      "27. compute_statistic(..., self = self)\n",
      "28. self$stat$setup_params(data, self$stat_params)\n",
      "29. setup_params(..., self = self)\n",
      "30. cli::cli_abort(c(\"{.fn {snake_class(self)}} requires a continuous {.field {x}} aesthetic.\", \n",
      "  .     x = \"the {.field {x}} aesthetic is discrete.\", i = \"Perhaps you want {.code stat=\\\"count\\\"}?\"))\n",
      "31. rlang::abort(message, ..., call = call, use_cli_format = TRUE, \n",
      "  .     .frame = .frame)\n",
      "32. signal_abort(cnd, .file)\n",
      "33. signalCondition(cnd)\n",
      "34. (function (cnd) \n",
      "  . {\n",
      "  .     {\n",
      "  .         .__handler_frame__. <- TRUE\n",
      "  .         .__setup_frame__. <- frame\n",
      "  .         if (inherits(cnd, \"message\")) {\n",
      "  .             except <- c(\"warning\", \"error\")\n",
      "  .         }\n",
      "  .         else if (inherits(cnd, \"warning\")) {\n",
      "  .             except <- \"error\"\n",
      "  .         }\n",
      "  .         else {\n",
      "  .             except <- \"\"\n",
      "  .         }\n",
      "  .     }\n",
      "  .     while (!is_null(cnd)) {\n",
      "  .         if (inherits(cnd, \"error\")) {\n",
      "  .             out <- handlers[[1L]](cnd)\n",
      "  .             if (!inherits(out, \"rlang_zap\")) \n",
      "  .                 throw(out)\n",
      "  .         }\n",
      "  .         inherit <- .subset2(.subset2(cnd, \"rlang\"), \"inherit\")\n",
      "  .         if (is_false(inherit)) {\n",
      "  .             return()\n",
      "  .         }\n",
      "  .         cnd <- .subset2(cnd, \"parent\")\n",
      "  .     }\n",
      "  . })(structure(list(message = structure(\"`stat_bin()` requires a continuous \\033[32mx\\033[39m aesthetic.\", names = \"\"), \n",
      "  .     trace = structure(list(call = list(IRkernel::main(), kernel$run(), \n",
      "  .         handle_shell(), executor$execute(msg), tryCatch(evaluate(request$content$code, \n",
      "  .             envir = .GlobalEnv, output_handler = oh, stop_on_error = 1L), \n",
      "  .             interrupt = function(cond) {\n",
      "  .                 log_debug(\"Interrupt during execution\")\n",
      "  .                 interrupted <<- TRUE\n",
      "  .             }, error = .self$handle_error), tryCatchList(expr, \n",
      "  .             classes, parentenv, handlers), tryCatchOne(tryCatchList(expr, \n",
      "  .             names[-nh], parentenv, handlers[-nh]), names[nh], \n",
      "  .             parentenv, handlers[[nh]]), doTryCatch(return(expr), \n",
      "  .             name, parentenv, handler), tryCatchList(expr, names[-nh], \n",
      "  .             parentenv, handlers[-nh]), tryCatchOne(expr, names, \n",
      "  .             parentenv, handlers[[1L]]), doTryCatch(return(expr), \n",
      "  .             name, parentenv, handler), evaluate(request$content$code, \n",
      "  .             envir = .GlobalEnv, output_handler = oh, stop_on_error = 1L), \n",
      "  .         withRestarts(with_handlers({\n",
      "  .             for (expr in tle$exprs) {\n",
      "  .                 ev <- withVisible(eval(expr, envir))\n",
      "  .                 watcher$capture_plot_and_output()\n",
      "  .                 watcher$print_value(ev$value, ev$visible, envir)\n",
      "  .             }\n",
      "  .             TRUE\n",
      "  .         }, handlers), eval_continue = function() TRUE, eval_stop = function() FALSE), \n",
      "  .         withRestartList(expr, restarts), withOneRestart(withRestartList(expr, \n",
      "  .             restarts[-nr]), restarts[[nr]]), doWithOneRestart(return(expr), \n",
      "  .             restart), withRestartList(expr, restarts[-nr]), withOneRestart(expr, \n",
      "  .             restarts[[1L]]), doWithOneRestart(return(expr), restart), \n",
      "  .         with_handlers({\n",
      "  .             for (expr in tle$exprs) {\n",
      "  .                 ev <- withVisible(eval(expr, envir))\n",
      "  .                 watcher$capture_plot_and_output()\n",
      "  .                 watcher$print_value(ev$value, ev$visible, envir)\n",
      "  .             }\n",
      "  .             TRUE\n",
      "  .         }, handlers), eval(call), eval(call), withCallingHandlers(code, \n",
      "  .             message = `<fn>`, warning = `<fn>`, error = `<fn>`), \n",
      "  .         watcher$print_value(ev$value, ev$visible, envir), withVisible(handle_value(handler, \n",
      "  .             value, visible, envir)), handle_value(handler, value, \n",
      "  .             visible, envir), handler$value(value, visible), prepare_mimebundle_kernel(obj, \n",
      "  .             .self$handle_display_error), prepare_mimebundle(obj, \n",
      "  .             \"text/plain\", error_handler = handle_display_error), \n",
      "  .         filter_map(mimetypes, function(mime) {\n",
      "  .             tryCatch(withCallingHandlers({\n",
      "  .                 if (!mime %in% names(repr::mime2repr)) \n",
      "  .                   stop(\"No repr_* for mimetype \", mime, \" in repr::mime2repr\")\n",
      "  .                 rpr <- repr::mime2repr[[mime]](obj)\n",
      "  .                 if (is.null(rpr)) \n",
      "  .                   return(NULL)\n",
      "  .                 prepare_content(is.raw(rpr), rpr)\n",
      "  .             }, error = error_handler), error = outer_handler)\n",
      "  .         }), Filter(Negate(is.null), sapply(x, f, simplify = simplify)), \n",
      "  .         unlist(lapply(x, f)), lapply(x, f), sapply(x, f, simplify = simplify), \n",
      "  .         lapply(X = X, FUN = FUN, ...), FUN(X[[i]], ...), tryCatch(withCallingHandlers({\n",
      "  .             if (!mime %in% names(repr::mime2repr)) \n",
      "  .                 stop(\"No repr_* for mimetype \", mime, \" in repr::mime2repr\")\n",
      "  .             rpr <- repr::mime2repr[[mime]](obj)\n",
      "  .             if (is.null(rpr)) \n",
      "  .                 return(NULL)\n",
      "  .             prepare_content(is.raw(rpr), rpr)\n",
      "  .         }, error = error_handler), error = outer_handler), tryCatchList(expr, \n",
      "  .             classes, parentenv, handlers), tryCatchOne(expr, \n",
      "  .             names, parentenv, handlers[[1L]]), doTryCatch(return(expr), \n",
      "  .             name, parentenv, handler), withCallingHandlers({\n",
      "  .             if (!mime %in% names(repr::mime2repr)) \n",
      "  .                 stop(\"No repr_* for mimetype \", mime, \" in repr::mime2repr\")\n",
      "  .             rpr <- repr::mime2repr[[mime]](obj)\n",
      "  .             if (is.null(rpr)) \n",
      "  .                 return(NULL)\n",
      "  .             prepare_content(is.raw(rpr), rpr)\n",
      "  .         }, error = error_handler), repr::mime2repr[[mime]](obj), \n",
      "  .         repr_text.default(obj), paste(capture.output(print(obj)), \n",
      "  .             collapse = \"\\n\"), capture.output(print(obj)), withVisible(...elt(i)), \n",
      "  .         print(obj), print.ggplot(obj), ggplot_build(x), ggplot_build.ggplot(x), \n",
      "  .         by_layer(function(l, d) l$compute_statistic(d, layout), \n",
      "  .             layers, data, \"computing stat\"), try_fetch(for (i in seq_along(data)) {\n",
      "  .             out[[i]] <- f(l = layers[[i]], d = data[[i]])\n",
      "  .         }, error = function(cnd) {\n",
      "  .             cli::cli_abort(c(\"Problem while {step}.\", i = \"Error occurred in the {ordinal(i)} layer.\"), \n",
      "  .                 call = layers[[i]]$constructor, parent = cnd)\n",
      "  .         }), tryCatch(withCallingHandlers(expr, condition = function(cnd) {\n",
      "  .             {\n",
      "  .                 .__handler_frame__. <- TRUE\n",
      "  .                 .__setup_frame__. <- frame\n",
      "  .                 if (inherits(cnd, \"message\")) {\n",
      "  .                   except <- c(\"warning\", \"error\")\n",
      "  .                 }\n",
      "  .                 else if (inherits(cnd, \"warning\")) {\n",
      "  .                   except <- \"error\"\n",
      "  .                 }\n",
      "  .                 else {\n",
      "  .                   except <- \"\"\n",
      "  .                 }\n",
      "  .             }\n",
      "  .             while (!is_null(cnd)) {\n",
      "  .                 if (inherits(cnd, \"error\")) {\n",
      "  .                   out <- handlers[[1L]](cnd)\n",
      "  .                   if (!inherits(out, \"rlang_zap\")) \n",
      "  .                     throw(out)\n",
      "  .                 }\n",
      "  .                 inherit <- .subset2(.subset2(cnd, \"rlang\"), \"inherit\")\n",
      "  .                 if (is_false(inherit)) {\n",
      "  .                   return()\n",
      "  .                 }\n",
      "  .                 cnd <- .subset2(cnd, \"parent\")\n",
      "  .             }\n",
      "  .         }), stackOverflowError = handlers[[1L]]), tryCatchList(expr, \n",
      "  .             classes, parentenv, handlers), tryCatchOne(expr, \n",
      "  .             names, parentenv, handlers[[1L]]), doTryCatch(return(expr), \n",
      "  .             name, parentenv, handler), withCallingHandlers(expr, \n",
      "  .             condition = function(cnd) {\n",
      "  .                 {\n",
      "  .                   .__handler_frame__. <- TRUE\n",
      "  .                   .__setup_frame__. <- frame\n",
      "  .                   if (inherits(cnd, \"message\")) {\n",
      "  .                     except <- c(\"warning\", \"error\")\n",
      "  .                   }\n",
      "  .                   else if (inherits(cnd, \"warning\")) {\n",
      "  .                     except <- \"error\"\n",
      "  .                   }\n",
      "  .                   else {\n",
      "  .                     except <- \"\"\n",
      "  .                   }\n",
      "  .                 }\n",
      "  .                 while (!is_null(cnd)) {\n",
      "  .                   if (inherits(cnd, \"error\")) {\n",
      "  .                     out <- handlers[[1L]](cnd)\n",
      "  .                     if (!inherits(out, \"rlang_zap\")) \n",
      "  .                       throw(out)\n",
      "  .                   }\n",
      "  .                   inherit <- .subset2(.subset2(cnd, \"rlang\"), \n",
      "  .                     \"inherit\")\n",
      "  .                   if (is_false(inherit)) {\n",
      "  .                     return()\n",
      "  .                   }\n",
      "  .                   cnd <- .subset2(cnd, \"parent\")\n",
      "  .                 }\n",
      "  .             }), f(l = layers[[i]], d = data[[i]]), l$compute_statistic(d, \n",
      "  .             layout), compute_statistic(..., self = self), self$stat$setup_params(data, \n",
      "  .             self$stat_params), setup_params(..., self = self), \n",
      "  .         cli::cli_abort(c(\"{.fn {snake_class(self)}} requires a continuous {.field {x}} aesthetic.\", \n",
      "  .             x = \"the {.field {x}} aesthetic is discrete.\", i = \"Perhaps you want {.code stat=\\\"count\\\"}?\")), \n",
      "  .         rlang::abort(message, ..., call = call, use_cli_format = TRUE, \n",
      "  .             .frame = .frame)), parent = c(0L, 1L, 2L, 3L, 4L, \n",
      "  .     5L, 6L, 7L, 6L, 9L, 10L, 4L, 12L, 13L, 14L, 15L, 14L, 17L, \n",
      "  .     18L, 12L, 20L, 21L, 20L, 12L, 24L, 24L, 26L, 27L, 28L, 29L, \n",
      "  .     30L, 31L, 31L, 30L, 34L, 35L, 36L, 37L, 38L, 39L, 36L, 36L, \n",
      "  .     36L, 43L, 43L, 45L, 43L, 43L, 48L, 48L, 50L, 51L, 52L, 53L, \n",
      "  .     54L, 55L, 52L, 51L, 58L, 59L, 60L, 61L, 62L, 63L), visible = c(TRUE, \n",
      "  .     TRUE, TRUE, TRUE, TRUE, TRUE, TRUE, TRUE, TRUE, TRUE, TRUE, \n",
      "  .     TRUE, TRUE, TRUE, TRUE, TRUE, TRUE, TRUE, TRUE, TRUE, TRUE, \n",
      "  .     TRUE, TRUE, TRUE, TRUE, TRUE, TRUE, TRUE, TRUE, TRUE, TRUE, \n",
      "  .     TRUE, TRUE, TRUE, TRUE, TRUE, TRUE, TRUE, TRUE, TRUE, TRUE, \n",
      "  .     TRUE, TRUE, TRUE, TRUE, TRUE, TRUE, TRUE, TRUE, TRUE, TRUE, \n",
      "  .     TRUE, TRUE, TRUE, TRUE, TRUE, TRUE, TRUE, TRUE, TRUE, TRUE, \n",
      "  .     TRUE, FALSE, FALSE), namespace = c(\"IRkernel\", NA, \"IRkernel\", \n",
      "  .     NA, \"base\", \"base\", \"base\", \"base\", \"base\", \"base\", \"base\", \n",
      "  .     \"evaluate\", \"base\", \"base\", \"base\", \"base\", \"base\", \"base\", \n",
      "  .     \"base\", \"evaluate\", \"base\", \"base\", \"base\", NA, \"base\", \"evaluate\", \n",
      "  .     NA, \"IRkernel\", \"IRdisplay\", \"IRdisplay\", \"base\", \"base\", \n",
      "  .     \"base\", \"base\", \"base\", \"IRdisplay\", \"base\", \"base\", \"base\", \n",
      "  .     \"base\", \"base\", NA, \"repr\", \"base\", \"utils\", \"base\", \"base\", \n",
      "  .     \"ggplot2\", \"ggplot2\", \"ggplot2\", \"ggplot2\", \"rlang\", \"base\", \n",
      "  .     \"base\", \"base\", \"base\", \"base\", \"ggplot2\", NA, \"ggplot2\", \n",
      "  .     NA, \"ggplot2\", \"cli\", \"rlang\"), scope = c(\"::\", NA, \"local\", \n",
      "  .     NA, \"::\", \"local\", \"local\", \"local\", \"local\", \"local\", \"local\", \n",
      "  .     \"::\", \"::\", \"local\", \"local\", \"local\", \"local\", \"local\", \n",
      "  .     \"local\", \":::\", \"::\", \"::\", \"::\", NA, \"::\", \":::\", NA, \":::\", \n",
      "  .     \"::\", \":::\", \"::\", \"::\", \"::\", \"::\", \"::\", \"local\", \"::\", \n",
      "  .     \"local\", \"local\", \"local\", \"::\", NA, \":::\", \"::\", \"::\", \"::\", \n",
      "  .     \"::\", \":::\", \"::\", \":::\", \":::\", \"::\", \"::\", \"local\", \"local\", \n",
      "  .     \"local\", \"::\", \"local\", NA, \"local\", NA, \"local\", \"::\", \"::\"\n",
      "  .     ), error_frame = c(FALSE, FALSE, FALSE, FALSE, FALSE, FALSE, \n",
      "  .     FALSE, FALSE, FALSE, FALSE, FALSE, FALSE, FALSE, FALSE, FALSE, \n",
      "  .     FALSE, FALSE, FALSE, FALSE, FALSE, FALSE, FALSE, FALSE, FALSE, \n",
      "  .     FALSE, FALSE, FALSE, FALSE, FALSE, FALSE, FALSE, FALSE, FALSE, \n",
      "  .     FALSE, FALSE, FALSE, FALSE, FALSE, FALSE, FALSE, FALSE, FALSE, \n",
      "  .     FALSE, FALSE, FALSE, FALSE, FALSE, FALSE, FALSE, FALSE, FALSE, \n",
      "  .     FALSE, FALSE, FALSE, FALSE, FALSE, FALSE, FALSE, FALSE, FALSE, \n",
      "  .     FALSE, TRUE, FALSE, FALSE)), row.names = c(NA, -64L), version = 2L, class = c(\"rlang_trace\", \n",
      "  .     \"rlib_trace\", \"tbl\", \"data.frame\")), parent = NULL, body = c(x = \"the \\033[32mx\\033[39m aesthetic is discrete.\", \n",
      "  .     i = \"Perhaps you want `stat=\\\"count\\\"`?\"), rlang = list(inherit = TRUE), \n",
      "  .     call = setup_params(..., self = self), use_cli_format = TRUE), class = c(\"rlang_error\", \n",
      "  . \"error\", \"condition\")))\n",
      "35. handlers[[1L]](cnd)\n",
      "36. cli::cli_abort(c(\"Problem while {step}.\", i = \"Error occurred in the {ordinal(i)} layer.\"), \n",
      "  .     call = layers[[i]]$constructor, parent = cnd)\n",
      "37. rlang::abort(message, ..., call = call, use_cli_format = TRUE, \n",
      "  .     .frame = .frame)\n",
      "38. signal_abort(cnd, .file)\n"
     ]
    }
   ],
   "source": [
    "covid_summary |>\n",
    "  ggplot(aes(x = year)) +\n",
    "  geom_histogram()"
   ]
  },
  {
   "cell_type": "code",
   "execution_count": 39,
   "id": "cf2f7c10",
   "metadata": {
    "vscode": {
     "languageId": "r"
    }
   },
   "outputs": [
    {
     "data": {
      "image/png": "[encoded data removed]",
      "text/plain": [
       "plot without title"
      ]
     },
     "metadata": {
      "image/png": {
       "height": 420,
       "width": 420
      }
     },
     "output_type": "display_data"
    }
   ],
   "source": [
    "# First, let's create a better summary of the COVID data\n",
    "covid_summary <- covid |>\n",
    "  group_by(year, month) |>\n",
    "  summarise(\n",
    "    total_cases = n(),              # Count cases per month\n",
    "    .groups = \"drop\"\n",
    "  ) |>\n",
    "  mutate(\n",
    "    date = as.Date(paste(year, month, \"01\", sep = \"-\"))  # Create proper date column\n",
    "  )\n",
    "\n",
    "# Now create the epidemic curve\n",
    "covid_summary |>\n",
    "  ggplot(aes(x = date, y = total_cases)) +\n",
    "  geom_col(fill = \"steelblue\", color = \"black\") +\n",
    "  labs(\n",
    "    title = \"COVID-19 Cases in Spain by Month\",\n",
    "    x = \"Date\",\n",
    "    y = \"Number of Cases\"\n",
    "  ) +\n",
    "  theme_minimal() +\n",
    "  theme(\n",
    "    axis.text.x = element_text(angle = 45, hjust = 1),  # Rotate date labels\n",
    "    panel.grid.minor = element_blank()                   # Remove minor gridlines\n",
    "  ) +\n",
    "  scale_x_date(date_breaks = \"2 months\", date_labels = \"%b %Y\")  # Format date axis"
   ]
  },
  {
   "cell_type": "markdown",
   "id": "57a2854f",
   "metadata": {},
   "source": [
    "---\n",
    "## Conclusion\n",
    "We examined\n",
    "- making barplots\n",
    "- including aesthetics\n",
    "- adding error bars\n",
    "- changing colours"
   ]
  }
 ],
 "metadata": {
  "kernelspec": {
   "display_name": "R",
   "language": "R",
   "name": "ir"
  },
  "language_info": {
   "codemirror_mode": "r",
   "file_extension": ".r",
   "mimetype": "text/x-r-source",
   "name": "R",
   "pygments_lexer": "r",
   "version": "4.5.0"
  }
 },
 "nbformat": 4,
 "nbformat_minor": 5
}
